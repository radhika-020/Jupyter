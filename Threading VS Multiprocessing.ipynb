{
 "cells": [
  {
   "cell_type": "code",
   "execution_count": 1,
   "metadata": {},
   "outputs": [],
   "source": [
    "#Process :- An instance of a program, e.g., A Python Interpreter.\n",
    "\n",
    "#Advantages :-\n",
    "#Takes advantage of multiple CPUs and cores.\n",
    "#Seperate memory-space -> Memory is not shared between processes\n",
    "#Great for CPU Bound Scheduling.\n",
    "#New process is started independently of the other processes.\n",
    "#Processes are interruptable/killable.\n",
    "#One Global Interpreter Lock (GIL) for each process -> Avoids GIL Limitation\n",
    "\n",
    "#Disdavantages :-\n",
    "#HeavyWeight\n",
    "#Starting aprocess is slower than starting a thread.\n",
    "#More memory\n",
    "#Inter Process Communication (IPC) is more complicated.\n"
   ]
  },
  {
   "cell_type": "code",
   "execution_count": 2,
   "metadata": {},
   "outputs": [],
   "source": [
    "#Thread :- A thread is an entity within a process that can be scheduled (aloso known as LightWeight Process).\n",
    "#A process can spawn multiple threads. All processes within a thread share the same memory.\n",
    "\n",
    "#Advantages :-\n",
    "#All threads within a process share the same memory.\n",
    "#LightWeight\n",
    "#Starting a thread is fater than starting a process.\n",
    "#Great for I/O bound tasks.\n",
    "\n",
    "#Disadvantages :-\n",
    "#Threading is limited by GIL: Only one thread at a time. There is no parallel computation in Multithreading.\n",
    "#No effect for CPU bound tasks.\n",
    "#Not interruptable/killable.\n",
    "#Careful with race conditions, occurs when two or more threads want to modify a same variable or same module at the same time."
   ]
  },
  {
   "cell_type": "code",
   "execution_count": null,
   "metadata": {},
   "outputs": [],
   "source": [
    "#Global Interpreter Lock (GIL) :- A lock that allows only one thread at a time to execute in Python. \n",
    "#Needed in CPython(Reference Python Implementation that comes handy with Python) because memory management is not thread-safe.\n",
    "\n",
    "#Avoid :-\n",
    "#Use Multiprocessing\n",
    "#Use a different, free-threaded Python implementation (Jython, Ironpython).\n",
    "#Use Python as a wrapper for third-party libraries (C/C++) -> numpy, scipy."
   ]
  }
 ],
 "metadata": {
  "kernelspec": {
   "display_name": "Python 3.10.4 64-bit",
   "language": "python",
   "name": "python3"
  },
  "language_info": {
   "codemirror_mode": {
    "name": "ipython",
    "version": 3
   },
   "file_extension": ".py",
   "mimetype": "text/x-python",
   "name": "python",
   "nbconvert_exporter": "python",
   "pygments_lexer": "ipython3",
   "version": "3.10.4"
  },
  "orig_nbformat": 4,
  "vscode": {
   "interpreter": {
    "hash": "e593ac106456af50ce7af38f9671c411b49d6cd90f9b885e167f0f594e09038c"
   }
  }
 },
 "nbformat": 4,
 "nbformat_minor": 2
}
