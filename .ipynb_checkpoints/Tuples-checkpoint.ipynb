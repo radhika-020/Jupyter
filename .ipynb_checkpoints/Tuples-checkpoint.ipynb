{
 "cells": [
  {
   "cell_type": "code",
   "execution_count": 2,
   "id": "d75809ab-d9f9-4de8-9295-122121fa7311",
   "metadata": {},
   "outputs": [
    {
     "ename": "NameError",
     "evalue": "name 'Grapes' is not defined",
     "output_type": "error",
     "traceback": [
      "\u001b[1;31m---------------------------------------------------------------------------\u001b[0m",
      "\u001b[1;31mNameError\u001b[0m                                 Traceback (most recent call last)",
      "Input \u001b[1;32mIn [2]\u001b[0m, in \u001b[0;36m<cell line: 1>\u001b[1;34m()\u001b[0m\n\u001b[1;32m----> 1\u001b[0m myTuple \u001b[38;5;241m=\u001b[39m \u001b[38;5;124m\"\u001b[39m\u001b[38;5;124mBanana\u001b[39m\u001b[38;5;124m\"\u001b[39m, \u001b[38;5;241m1\u001b[39m, \u001b[43mGrapes\u001b[49m\n",
      "\u001b[1;31mNameError\u001b[0m: name 'Grapes' is not defined"
     ]
    }
   ],
   "source": [
    "myTuple = \"Banana\", 1, Grapes"
   ]
  },
  {
   "cell_type": "code",
   "execution_count": 3,
   "id": "67751424-cd86-477d-822e-ee2c785f3f77",
   "metadata": {},
   "outputs": [
    {
     "name": "stdout",
     "output_type": "stream",
     "text": [
      "('Banana', 1, 'Grapes')\n"
     ]
    }
   ],
   "source": [
    "myTuple = \"Banana\", 1, \"Grapes\"\n",
    "print(myTuple)"
   ]
  },
  {
   "cell_type": "code",
   "execution_count": 4,
   "id": "edc36aa6-bf06-4534-a667-2fba34162797",
   "metadata": {},
   "outputs": [
    {
     "name": "stdout",
     "output_type": "stream",
     "text": [
      "('Banana', 1, 'Grapes')\n"
     ]
    }
   ],
   "source": [
    "myTuple = (\"Banana\", 1, \"Grapes\")\n",
    "print(myTuple)"
   ]
  },
  {
   "cell_type": "code",
   "execution_count": 5,
   "id": "ba5f768a-6385-4127-8e4e-ff75e1fd0293",
   "metadata": {},
   "outputs": [
    {
     "name": "stdout",
     "output_type": "stream",
     "text": [
      "()\n"
     ]
    }
   ],
   "source": [
    "myTuple = ()\n",
    "print(myTuple)"
   ]
  },
  {
   "cell_type": "code",
   "execution_count": 6,
   "id": "056f6e40-2b14-4b1f-90af-4ef3447e6014",
   "metadata": {},
   "outputs": [
    {
     "name": "stdout",
     "output_type": "stream",
     "text": [
      "<class 'str'>\n"
     ]
    }
   ],
   "source": [
    "myTuple = (\"Banana\")\n",
    "print(type(myTuple))"
   ]
  },
  {
   "cell_type": "code",
   "execution_count": 7,
   "id": "8a492cf8-3bf8-4777-8b14-e86ac04ebbce",
   "metadata": {},
   "outputs": [
    {
     "name": "stdout",
     "output_type": "stream",
     "text": [
      "<class 'tuple'>\n"
     ]
    }
   ],
   "source": [
    "myTuple = (\"Banana\",)\n",
    "print(type(myTuple))"
   ]
  },
  {
   "cell_type": "code",
   "execution_count": 8,
   "id": "882c1d65-2cb1-4481-bde0-5f1ad658eb3e",
   "metadata": {},
   "outputs": [
    {
     "ename": "SyntaxError",
     "evalue": "'(' was never closed (1318962266.py, line 1)",
     "output_type": "error",
     "traceback": [
      "\u001b[1;36m  Input \u001b[1;32mIn [8]\u001b[1;36m\u001b[0m\n\u001b[1;33m    myTuple = tuple([\"Banana\", 28, \"Guava\"]\u001b[0m\n\u001b[1;37m                   ^\u001b[0m\n\u001b[1;31mSyntaxError\u001b[0m\u001b[1;31m:\u001b[0m '(' was never closed\n"
     ]
    }
   ],
   "source": [
    "myTuple = tuple([\"Banana\", 28, \"Guava\"]\n",
    "print(myTuple)"
   ]
  },
  {
   "cell_type": "code",
   "execution_count": 9,
   "id": "1d7b6614-6df5-47a7-8f40-80bb673ed087",
   "metadata": {},
   "outputs": [
    {
     "name": "stdout",
     "output_type": "stream",
     "text": [
      "('Banana', 28, 'Guava')\n"
     ]
    }
   ],
   "source": [
    "myTuple = tuple([\"Banana\", 28, \"Guava\"])\n",
    "print(myTuple)"
   ]
  },
  {
   "cell_type": "code",
   "execution_count": 10,
   "id": "4a7941c8-fa8e-479a-bd1d-ba5667eb69a4",
   "metadata": {},
   "outputs": [
    {
     "ename": "TypeError",
     "evalue": "'int' object is not iterable",
     "output_type": "error",
     "traceback": [
      "\u001b[1;31m---------------------------------------------------------------------------\u001b[0m",
      "\u001b[1;31mTypeError\u001b[0m                                 Traceback (most recent call last)",
      "Input \u001b[1;32mIn [10]\u001b[0m, in \u001b[0;36m<cell line: 1>\u001b[1;34m()\u001b[0m\n\u001b[1;32m----> 1\u001b[0m item \u001b[38;5;241m=\u001b[39m \u001b[38;5;28;43mtuple\u001b[39;49m\u001b[43m(\u001b[49m\u001b[38;5;241;43m0\u001b[39;49m\u001b[43m)\u001b[49m\n\u001b[0;32m      2\u001b[0m \u001b[38;5;28mprint\u001b[39m(item)\n",
      "\u001b[1;31mTypeError\u001b[0m: 'int' object is not iterable"
     ]
    }
   ],
   "source": [
    "item = tuple(0)\n",
    "print(item)"
   ]
  },
  {
   "cell_type": "code",
   "execution_count": 11,
   "id": "6a67f9a4-5901-47fd-b356-b5ee45f37134",
   "metadata": {},
   "outputs": [
    {
     "name": "stdout",
     "output_type": "stream",
     "text": [
      "tuple[0]\n"
     ]
    }
   ],
   "source": [
    "item = tuple[0]\n",
    "print(item)"
   ]
  },
  {
   "cell_type": "code",
   "execution_count": 12,
   "id": "6002f6e8-bc7b-43ee-9d98-e21580805c40",
   "metadata": {},
   "outputs": [
    {
     "name": "stdout",
     "output_type": "stream",
     "text": [
      "Banana\n"
     ]
    }
   ],
   "source": [
    "item = myTuple[0]\n",
    "print(item)"
   ]
  },
  {
   "cell_type": "code",
   "execution_count": 13,
   "id": "8e1e2b7d-a022-4ad9-95fc-5c14c6089c8d",
   "metadata": {},
   "outputs": [
    {
     "name": "stdout",
     "output_type": "stream",
     "text": [
      "tuple[3]\n"
     ]
    }
   ],
   "source": [
    "item = tuple[0]\n",
    "print(item)"
   ]
  },
  {
   "cell_type": "code",
   "execution_count": 14,
   "id": "e74e81b3-5577-4eec-b984-1ecedd1dd3de",
   "metadata": {},
   "outputs": [
    {
     "ename": "IndexError",
     "evalue": "tuple index out of range",
     "output_type": "error",
     "traceback": [
      "\u001b[1;31m---------------------------------------------------------------------------\u001b[0m",
      "\u001b[1;31mIndexError\u001b[0m                                Traceback (most recent call last)",
      "Input \u001b[1;32mIn [14]\u001b[0m, in \u001b[0;36m<cell line: 1>\u001b[1;34m()\u001b[0m\n\u001b[1;32m----> 1\u001b[0m item \u001b[38;5;241m=\u001b[39m \u001b[43mmyTuple\u001b[49m\u001b[43m[\u001b[49m\u001b[38;5;241;43m3\u001b[39;49m\u001b[43m]\u001b[49m\n\u001b[0;32m      2\u001b[0m \u001b[38;5;28mprint\u001b[39m(item)\n",
      "\u001b[1;31mIndexError\u001b[0m: tuple index out of range"
     ]
    }
   ],
   "source": [
    "item = myTuple[3]\n",
    "print(item)"
   ]
  },
  {
   "cell_type": "code",
   "execution_count": 15,
   "id": "d2587b2e-52e1-4850-906c-e43d46c1ee88",
   "metadata": {},
   "outputs": [
    {
     "name": "stdout",
     "output_type": "stream",
     "text": [
      "Guava\n"
     ]
    }
   ],
   "source": [
    "item = myTuple[-1]\n",
    "print(item)"
   ]
  },
  {
   "cell_type": "code",
   "execution_count": 16,
   "id": "668d7968-b531-43d4-9333-edd67d8288f2",
   "metadata": {},
   "outputs": [
    {
     "ename": "TypeError",
     "evalue": "'tuple' object does not support item assignment",
     "output_type": "error",
     "traceback": [
      "\u001b[1;31m---------------------------------------------------------------------------\u001b[0m",
      "\u001b[1;31mTypeError\u001b[0m                                 Traceback (most recent call last)",
      "Input \u001b[1;32mIn [16]\u001b[0m, in \u001b[0;36m<cell line: 1>\u001b[1;34m()\u001b[0m\n\u001b[1;32m----> 1\u001b[0m \u001b[43mmyTuple\u001b[49m\u001b[43m[\u001b[49m\u001b[38;5;241;43m0\u001b[39;49m\u001b[43m]\u001b[49m \u001b[38;5;241m=\u001b[39m \u001b[38;5;124m\"\u001b[39m\u001b[38;5;124mGrapes\u001b[39m\u001b[38;5;124m\"\u001b[39m\n",
      "\u001b[1;31mTypeError\u001b[0m: 'tuple' object does not support item assignment"
     ]
    }
   ],
   "source": [
    "myTuple[0] = \"Grapes\""
   ]
  },
  {
   "cell_type": "code",
   "execution_count": null,
   "id": "ea4d2ddc-7245-41d1-b0d0-349e6975eba9",
   "metadata": {},
   "outputs": [],
   "source": []
  }
 ],
 "metadata": {
  "kernelspec": {
   "display_name": "Python 3 (ipykernel)",
   "language": "python",
   "name": "python3"
  },
  "language_info": {
   "codemirror_mode": {
    "name": "ipython",
    "version": 3
   },
   "file_extension": ".py",
   "mimetype": "text/x-python",
   "name": "python",
   "nbconvert_exporter": "python",
   "pygments_lexer": "ipython3",
   "version": "3.10.4"
  }
 },
 "nbformat": 4,
 "nbformat_minor": 5
}
