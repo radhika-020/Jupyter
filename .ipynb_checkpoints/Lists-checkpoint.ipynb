{
 "cells": [
  {
   "cell_type": "code",
   "execution_count": 1,
   "id": "152d96a9-aa5a-4b40-ba84-a367f55a408c",
   "metadata": {},
   "outputs": [
    {
     "name": "stdout",
     "output_type": "stream",
     "text": [
      "[]\n"
     ]
    }
   ],
   "source": [
    "myList = list()\n",
    "print(myList)"
   ]
  },
  {
   "cell_type": "code",
   "execution_count": 2,
   "id": "8e8e0539-325e-4525-91cb-9a6d9243a1b7",
   "metadata": {},
   "outputs": [
    {
     "name": "stdout",
     "output_type": "stream",
     "text": [
      "['Banana']\n"
     ]
    }
   ],
   "source": [
    "myList.append(\"Banana\")\n",
    "print(myList)"
   ]
  },
  {
   "cell_type": "code",
   "execution_count": 3,
   "id": "08795155-7b6e-4335-80c3-01386cf48128",
   "metadata": {},
   "outputs": [
    {
     "name": "stdout",
     "output_type": "stream",
     "text": [
      "['Banana', 'Apple']\n"
     ]
    }
   ],
   "source": [
    "myList.append(\"Apple\")\n",
    "print(myList)"
   ]
  },
  {
   "cell_type": "code",
   "execution_count": 4,
   "id": "2ff450d0-f8db-4232-a836-688f07655ccd",
   "metadata": {},
   "outputs": [
    {
     "ename": "IndexError",
     "evalue": "list index out of range",
     "output_type": "error",
     "traceback": [
      "\u001b[1;31m---------------------------------------------------------------------------\u001b[0m",
      "\u001b[1;31mIndexError\u001b[0m                                Traceback (most recent call last)",
      "Input \u001b[1;32mIn [4]\u001b[0m, in \u001b[0;36m<cell line: 1>\u001b[1;34m()\u001b[0m\n\u001b[1;32m----> 1\u001b[0m \u001b[38;5;28mprint\u001b[39m(\u001b[43mmyList\u001b[49m\u001b[43m[\u001b[49m\u001b[38;5;241;43m-\u001b[39;49m\u001b[38;5;241;43m3\u001b[39;49m\u001b[43m]\u001b[49m)\n",
      "\u001b[1;31mIndexError\u001b[0m: list index out of range"
     ]
    }
   ],
   "source": [
    "print(myList[-3])"
   ]
  },
  {
   "cell_type": "code",
   "execution_count": 5,
   "id": "ea84da21-fb67-4600-ac0d-6db85dbd84fa",
   "metadata": {},
   "outputs": [
    {
     "name": "stdout",
     "output_type": "stream",
     "text": [
      "Apple\n"
     ]
    }
   ],
   "source": [
    "print(myList[-1])"
   ]
  },
  {
   "cell_type": "code",
   "execution_count": 6,
   "id": "2428d04e-e0c6-4c69-a963-5793c9d2c9d4",
   "metadata": {},
   "outputs": [
    {
     "name": "stdout",
     "output_type": "stream",
     "text": [
      "Banana\n"
     ]
    }
   ],
   "source": [
    "print(myList[0])"
   ]
  },
  {
   "cell_type": "code",
   "execution_count": 7,
   "id": "8dd2f4ce-b8db-47da-87c0-980770da2b8d",
   "metadata": {},
   "outputs": [
    {
     "name": "stdout",
     "output_type": "stream",
     "text": [
      "Banana\n",
      "Apple\n"
     ]
    }
   ],
   "source": [
    "for i in myList:\n",
    "    print(i)"
   ]
  },
  {
   "cell_type": "code",
   "execution_count": 8,
   "id": "8c264652-89fe-481a-b215-f6666462fad3",
   "metadata": {},
   "outputs": [
    {
     "name": "stdout",
     "output_type": "stream",
     "text": [
      "Banana Apple "
     ]
    }
   ],
   "source": [
    "for i in myList:\n",
    "    print(i, end = \" \")"
   ]
  },
  {
   "cell_type": "code",
   "execution_count": 9,
   "id": "494aea6f-adec-48ef-8f8e-5c871e4779de",
   "metadata": {},
   "outputs": [
    {
     "ename": "TypeError",
     "evalue": "list.append() takes exactly one argument (2 given)",
     "output_type": "error",
     "traceback": [
      "\u001b[1;31m---------------------------------------------------------------------------\u001b[0m",
      "\u001b[1;31mTypeError\u001b[0m                                 Traceback (most recent call last)",
      "Input \u001b[1;32mIn [9]\u001b[0m, in \u001b[0;36m<cell line: 1>\u001b[1;34m()\u001b[0m\n\u001b[1;32m----> 1\u001b[0m \u001b[43mmyList\u001b[49m\u001b[38;5;241;43m.\u001b[39;49m\u001b[43mappend\u001b[49m\u001b[43m(\u001b[49m\u001b[38;5;124;43m\"\u001b[39;49m\u001b[38;5;124;43mCherry\u001b[39;49m\u001b[38;5;124;43m\"\u001b[39;49m\u001b[43m,\u001b[49m\u001b[43m \u001b[49m\u001b[38;5;124;43m\"\u001b[39;49m\u001b[38;5;124;43mGuava\u001b[39;49m\u001b[38;5;124;43m\"\u001b[39;49m\u001b[43m)\u001b[49m\n\u001b[0;32m      2\u001b[0m \u001b[38;5;28mprint\u001b[39m(myList)\n",
      "\u001b[1;31mTypeError\u001b[0m: list.append() takes exactly one argument (2 given)"
     ]
    }
   ],
   "source": [
    "myList.append(\"Cherry\", \"Guava\")\n",
    "print(myList)"
   ]
  },
  {
   "cell_type": "code",
   "execution_count": 10,
   "id": "7a591740-1c2a-4915-9166-c9150cfed7b8",
   "metadata": {},
   "outputs": [
    {
     "ename": "AttributeError",
     "evalue": "'list' object has no attribute 'push'",
     "output_type": "error",
     "traceback": [
      "\u001b[1;31m---------------------------------------------------------------------------\u001b[0m",
      "\u001b[1;31mAttributeError\u001b[0m                            Traceback (most recent call last)",
      "Input \u001b[1;32mIn [10]\u001b[0m, in \u001b[0;36m<cell line: 1>\u001b[1;34m()\u001b[0m\n\u001b[1;32m----> 1\u001b[0m \u001b[43mmyList\u001b[49m\u001b[38;5;241;43m.\u001b[39;49m\u001b[43mpush\u001b[49m(\u001b[38;5;124m\"\u001b[39m\u001b[38;5;124mGuava\u001b[39m\u001b[38;5;124m\"\u001b[39m)\n\u001b[0;32m      2\u001b[0m \u001b[38;5;28mprint\u001b[39m(myList)\n",
      "\u001b[1;31mAttributeError\u001b[0m: 'list' object has no attribute 'push'"
     ]
    }
   ],
   "source": [
    "myList.push(\"Guava\")\n",
    "print(myList)"
   ]
  },
  {
   "cell_type": "code",
   "execution_count": 11,
   "id": "4f174a6d-24d5-4bfc-a460-466147381e40",
   "metadata": {},
   "outputs": [
    {
     "ename": "TypeError",
     "evalue": "'list' object cannot be interpreted as an integer",
     "output_type": "error",
     "traceback": [
      "\u001b[1;31m---------------------------------------------------------------------------\u001b[0m",
      "\u001b[1;31mTypeError\u001b[0m                                 Traceback (most recent call last)",
      "Input \u001b[1;32mIn [11]\u001b[0m, in \u001b[0;36m<cell line: 1>\u001b[1;34m()\u001b[0m\n\u001b[1;32m----> 1\u001b[0m \u001b[38;5;28;01mfor\u001b[39;00m i \u001b[38;5;129;01min\u001b[39;00m \u001b[38;5;28;43mrange\u001b[39;49m\u001b[43m(\u001b[49m\u001b[38;5;241;43m0\u001b[39;49m\u001b[43m,\u001b[49m\u001b[43m \u001b[49m\u001b[43mmyList\u001b[49m\u001b[43m)\u001b[49m:\n\u001b[0;32m      2\u001b[0m     \u001b[38;5;28mprint\u001b[39m(i)\n",
      "\u001b[1;31mTypeError\u001b[0m: 'list' object cannot be interpreted as an integer"
     ]
    }
   ],
   "source": [
    "for i in range(0, myList):\n",
    "    print(i)"
   ]
  },
  {
   "cell_type": "code",
   "execution_count": 12,
   "id": "77d5f966-5055-495a-8df5-94c4d9936566",
   "metadata": {},
   "outputs": [
    {
     "name": "stdout",
     "output_type": "stream",
     "text": [
      "Yes\n"
     ]
    }
   ],
   "source": [
    "if \"Banana\" in myList:\n",
    "    print(\"Yes\")\n",
    "else:\n",
    "    print(\"No\")"
   ]
  },
  {
   "cell_type": "code",
   "execution_count": 13,
   "id": "8539c65d-767d-4314-b319-f43860f06bb2",
   "metadata": {},
   "outputs": [
    {
     "name": "stdout",
     "output_type": "stream",
     "text": [
      "No\n"
     ]
    }
   ],
   "source": [
    "if \"banana\" in myList:\n",
    "    print(\"Yes\")\n",
    "else:\n",
    "    print(\"No\")"
   ]
  },
  {
   "cell_type": "code",
   "execution_count": 14,
   "id": "8b620adc-9a9a-4285-95ba-bd9e9a3e9214",
   "metadata": {},
   "outputs": [
    {
     "name": "stdout",
     "output_type": "stream",
     "text": [
      "2\n"
     ]
    }
   ],
   "source": [
    "print(len(myList))"
   ]
  },
  {
   "cell_type": "code",
   "execution_count": 15,
   "id": "ae3ef450-a652-464d-82c4-41a729abb040",
   "metadata": {},
   "outputs": [
    {
     "name": "stdout",
     "output_type": "stream",
     "text": [
      "['Guava', 'Banana', 'Apple']\n"
     ]
    }
   ],
   "source": [
    "myList.insert(0, \"Guava\")\n",
    "print(myList)"
   ]
  },
  {
   "cell_type": "code",
   "execution_count": 16,
   "id": "72599311-1af5-40dd-bcf7-ea5b122e87a6",
   "metadata": {},
   "outputs": [
    {
     "ename": "TypeError",
     "evalue": "insert expected 2 arguments, got 1",
     "output_type": "error",
     "traceback": [
      "\u001b[1;31m---------------------------------------------------------------------------\u001b[0m",
      "\u001b[1;31mTypeError\u001b[0m                                 Traceback (most recent call last)",
      "Input \u001b[1;32mIn [16]\u001b[0m, in \u001b[0;36m<cell line: 1>\u001b[1;34m()\u001b[0m\n\u001b[1;32m----> 1\u001b[0m \u001b[43mmyList\u001b[49m\u001b[38;5;241;43m.\u001b[39;49m\u001b[43minsert\u001b[49m\u001b[43m(\u001b[49m\u001b[38;5;124;43m\"\u001b[39;49m\u001b[38;5;124;43mGuava\u001b[39;49m\u001b[38;5;124;43m\"\u001b[39;49m\u001b[43m)\u001b[49m\n\u001b[0;32m      2\u001b[0m \u001b[38;5;28mprint\u001b[39m(myList)\n",
      "\u001b[1;31mTypeError\u001b[0m: insert expected 2 arguments, got 1"
     ]
    }
   ],
   "source": [
    "myList.insert(\"Guava\")\n",
    "print(myList)"
   ]
  },
  {
   "cell_type": "code",
   "execution_count": 17,
   "id": "2d4f4e49-edba-40b2-997a-8062311316e6",
   "metadata": {},
   "outputs": [
    {
     "name": "stdout",
     "output_type": "stream",
     "text": [
      "Apple\n",
      "['Guava', 'Banana']\n"
     ]
    }
   ],
   "source": [
    "item = myList.pop()\n",
    "print(item)\n",
    "print(myList)"
   ]
  },
  {
   "cell_type": "code",
   "execution_count": 21,
   "id": "e5b46fa4-2855-4e95-81d9-29935bde0a97",
   "metadata": {},
   "outputs": [
    {
     "ename": "IndexError",
     "evalue": "list index out of range",
     "output_type": "error",
     "traceback": [
      "\u001b[1;31m---------------------------------------------------------------------------\u001b[0m",
      "\u001b[1;31mIndexError\u001b[0m                                Traceback (most recent call last)",
      "Input \u001b[1;32mIn [21]\u001b[0m, in \u001b[0;36m<cell line: 1>\u001b[1;34m()\u001b[0m\n\u001b[1;32m----> 1\u001b[0m item \u001b[38;5;241m=\u001b[39m myList\u001b[38;5;241m.\u001b[39mremove(\u001b[43mmyList\u001b[49m\u001b[43m[\u001b[49m\u001b[38;5;241;43m1\u001b[39;49m\u001b[43m]\u001b[49m)\n\u001b[0;32m      2\u001b[0m \u001b[38;5;28mprint\u001b[39m(myList)\n\u001b[0;32m      3\u001b[0m \u001b[38;5;28mprint\u001b[39m(item)\n",
      "\u001b[1;31mIndexError\u001b[0m: list index out of range"
     ]
    }
   ],
   "source": [
    "item = myList.remove(myList[1])\n",
    "print(myList)\n",
    "print(item)"
   ]
  },
  {
   "cell_type": "code",
   "execution_count": 19,
   "id": "964fd7af-3faa-4896-8f7e-de03163d8d9d",
   "metadata": {},
   "outputs": [
    {
     "ename": "IndexError",
     "evalue": "list index out of range",
     "output_type": "error",
     "traceback": [
      "\u001b[1;31m---------------------------------------------------------------------------\u001b[0m",
      "\u001b[1;31mIndexError\u001b[0m                                Traceback (most recent call last)",
      "Input \u001b[1;32mIn [19]\u001b[0m, in \u001b[0;36m<cell line: 1>\u001b[1;34m()\u001b[0m\n\u001b[1;32m----> 1\u001b[0m item \u001b[38;5;241m=\u001b[39m myList\u001b[38;5;241m.\u001b[39mremove(\u001b[43mmyList\u001b[49m\u001b[43m[\u001b[49m\u001b[38;5;241;43m1\u001b[39;49m\u001b[43m]\u001b[49m)\n\u001b[0;32m      2\u001b[0m \u001b[38;5;28mprint\u001b[39m(item)\n",
      "\u001b[1;31mIndexError\u001b[0m: list index out of range"
     ]
    }
   ],
   "source": [
    "item = myList.remove(myList[1])\n",
    "print(item)"
   ]
  },
  {
   "cell_type": "code",
   "execution_count": 20,
   "id": "6e970e09-e02e-4770-9f00-b66912b163ea",
   "metadata": {},
   "outputs": [
    {
     "name": "stdout",
     "output_type": "stream",
     "text": [
      "None\n",
      "[]\n"
     ]
    }
   ],
   "source": [
    "item = myList.remove(myList[0])\n",
    "print(item)\n",
    "print(myList)"
   ]
  },
  {
   "cell_type": "code",
   "execution_count": 22,
   "id": "529ecc51-0650-44ff-904c-1395867c9584",
   "metadata": {},
   "outputs": [
    {
     "name": "stdout",
     "output_type": "stream",
     "text": [
      "['Grapes']\n"
     ]
    }
   ],
   "source": [
    "myList.append(\"Grapes\")\n",
    "print(myList)"
   ]
  },
  {
   "cell_type": "code",
   "execution_count": 23,
   "id": "ed27c02e-62ef-456c-b39b-d6b10a9ffd8f",
   "metadata": {},
   "outputs": [
    {
     "name": "stdout",
     "output_type": "stream",
     "text": [
      "[]\n"
     ]
    }
   ],
   "source": [
    "myList.remove(\"Grapes\")\n",
    "print(myList)"
   ]
  },
  {
   "cell_type": "code",
   "execution_count": 24,
   "id": "9b7dcb5a-8965-432b-a073-a281a4a2b2b8",
   "metadata": {},
   "outputs": [
    {
     "name": "stdout",
     "output_type": "stream",
     "text": [
      "['Grapes']\n"
     ]
    }
   ],
   "source": [
    "myList.append(\"Grapes\")\n",
    "print(myList)"
   ]
  },
  {
   "cell_type": "code",
   "execution_count": 25,
   "id": "cfa3b3ec-84a5-4cdf-ae31-24d499ff468b",
   "metadata": {},
   "outputs": [
    {
     "ename": "ValueError",
     "evalue": "list.remove(x): x not in list",
     "output_type": "error",
     "traceback": [
      "\u001b[1;31m---------------------------------------------------------------------------\u001b[0m",
      "\u001b[1;31mValueError\u001b[0m                                Traceback (most recent call last)",
      "Input \u001b[1;32mIn [25]\u001b[0m, in \u001b[0;36m<cell line: 1>\u001b[1;34m()\u001b[0m\n\u001b[1;32m----> 1\u001b[0m \u001b[43mmyList\u001b[49m\u001b[38;5;241;43m.\u001b[39;49m\u001b[43mremove\u001b[49m\u001b[43m(\u001b[49m\u001b[38;5;124;43m\"\u001b[39;49m\u001b[38;5;124;43mgrapes\u001b[39;49m\u001b[38;5;124;43m\"\u001b[39;49m\u001b[43m)\u001b[49m\n",
      "\u001b[1;31mValueError\u001b[0m: list.remove(x): x not in list"
     ]
    }
   ],
   "source": [
    "myList.remove(\"grapes\")"
   ]
  },
  {
   "cell_type": "code",
   "execution_count": 26,
   "id": "be2f33a2-cc40-4569-a448-e02c9b47a91f",
   "metadata": {},
   "outputs": [
    {
     "name": "stdout",
     "output_type": "stream",
     "text": [
      "['Grapes', 'Banana', 'Grapes']\n"
     ]
    }
   ],
   "source": [
    "myList.append(\"Banana\")\n",
    "myList.append(\"Grapes\")\n",
    "print(myList)"
   ]
  },
  {
   "cell_type": "code",
   "execution_count": 27,
   "id": "ffa5a5b5-44e2-4937-83c0-e7708c4139a7",
   "metadata": {},
   "outputs": [],
   "source": [
    "myList.clear()"
   ]
  },
  {
   "cell_type": "code",
   "execution_count": 28,
   "id": "1a20471a-a218-4d08-a2fe-0183f2e12af7",
   "metadata": {},
   "outputs": [
    {
     "name": "stdout",
     "output_type": "stream",
     "text": [
      "[]\n"
     ]
    }
   ],
   "source": [
    "print(myList)"
   ]
  },
  {
   "cell_type": "code",
   "execution_count": 29,
   "id": "37594160-0125-4396-ae03-c4e5297bd560",
   "metadata": {},
   "outputs": [
    {
     "name": "stdout",
     "output_type": "stream",
     "text": [
      "['Banana', 'Grapes', 'Cherry']\n"
     ]
    }
   ],
   "source": [
    "myList.append(\"Banana\")\n",
    "myList.append(\"Grapes\")\n",
    "myList.append(\"Cherry\")\n",
    "print(myList)"
   ]
  },
  {
   "cell_type": "code",
   "execution_count": 30,
   "id": "ba0bb805-4f3e-4fe1-a9e3-0ab275115f83",
   "metadata": {},
   "outputs": [
    {
     "name": "stdout",
     "output_type": "stream",
     "text": [
      "['Cherry', 'Grapes', 'Banana']\n"
     ]
    }
   ],
   "source": [
    "myList.reverse()\n",
    "print(myList)"
   ]
  },
  {
   "cell_type": "code",
   "execution_count": 31,
   "id": "9211fe5d-f659-495a-9377-cc52225b442a",
   "metadata": {},
   "outputs": [
    {
     "name": "stdout",
     "output_type": "stream",
     "text": [
      "['Cherry', 'Grapes', 'Banana']\n"
     ]
    }
   ],
   "source": [
    "myList[::-1]\n",
    "print(myList)"
   ]
  },
  {
   "cell_type": "code",
   "execution_count": 32,
   "id": "5628a8dd-6ac2-4eb1-a6fe-5d8bf14d0502",
   "metadata": {},
   "outputs": [
    {
     "name": "stdout",
     "output_type": "stream",
     "text": [
      "['Banana', 'Cherry', 'Grapes']\n"
     ]
    }
   ],
   "source": [
    "myList.sort()\n",
    "print(myList)"
   ]
  },
  {
   "cell_type": "code",
   "execution_count": 33,
   "id": "0e2b51fc-eae7-4b7d-9b02-f52194229842",
   "metadata": {},
   "outputs": [
    {
     "name": "stdout",
     "output_type": "stream",
     "text": [
      "['Banana', 'Cherry', 'Grapes']\n"
     ]
    }
   ],
   "source": [
    "myList[::-1]\n",
    "print(myList)"
   ]
  },
  {
   "cell_type": "code",
   "execution_count": 34,
   "id": "ebf99305-aa94-4070-af2c-26902b1765a3",
   "metadata": {},
   "outputs": [
    {
     "name": "stdout",
     "output_type": "stream",
     "text": [
      "['Grapes', 'Cherry', 'Banana']\n"
     ]
    }
   ],
   "source": [
    "myList = myList[::-1]\n",
    "print(myList)"
   ]
  },
  {
   "cell_type": "code",
   "execution_count": 35,
   "id": "9140a0b2-b59f-4dfa-8fe6-980a777bed87",
   "metadata": {},
   "outputs": [
    {
     "name": "stdout",
     "output_type": "stream",
     "text": [
      "['Grapes', 'Cherry', 'Banana']\n",
      "['Banana', 'Cherry', 'Grapes']\n"
     ]
    }
   ],
   "source": [
    "newList = sorted(myList)\n",
    "print(myList)\n",
    "print(newList)"
   ]
  },
  {
   "cell_type": "code",
   "execution_count": 36,
   "id": "78562cd6-f31c-4559-ad8c-af7e8118d6b0",
   "metadata": {},
   "outputs": [
    {
     "name": "stdout",
     "output_type": "stream",
     "text": [
      "[1, 1, 1, 1, 1]\n"
     ]
    }
   ],
   "source": [
    "myList = [1]*5\n",
    "print(myList)"
   ]
  },
  {
   "cell_type": "code",
   "execution_count": 37,
   "id": "36e7d5bd-54ff-489d-8500-2a56eca31e5d",
   "metadata": {},
   "outputs": [
    {
     "ename": "NameError",
     "evalue": "name 'myList2' is not defined",
     "output_type": "error",
     "traceback": [
      "\u001b[1;31m---------------------------------------------------------------------------\u001b[0m",
      "\u001b[1;31mNameError\u001b[0m                                 Traceback (most recent call last)",
      "Input \u001b[1;32mIn [37]\u001b[0m, in \u001b[0;36m<cell line: 2>\u001b[1;34m()\u001b[0m\n\u001b[0;32m      1\u001b[0m myList1 \u001b[38;5;241m=\u001b[39m [\u001b[38;5;241m2\u001b[39m]\u001b[38;5;241m*\u001b[39m\u001b[38;5;241m5\u001b[39m\n\u001b[1;32m----> 2\u001b[0m \u001b[38;5;28mprint\u001b[39m(\u001b[43mmyList2\u001b[49m)\n",
      "\u001b[1;31mNameError\u001b[0m: name 'myList2' is not defined"
     ]
    }
   ],
   "source": [
    "myList1 = [2]*5\n",
    "print(myList2)"
   ]
  },
  {
   "cell_type": "code",
   "execution_count": 38,
   "id": "730a724a-f292-4033-b60b-ddf2e9647011",
   "metadata": {},
   "outputs": [
    {
     "name": "stdout",
     "output_type": "stream",
     "text": [
      "[2, 2, 2, 2, 2]\n"
     ]
    }
   ],
   "source": [
    "myList1 = [2]*5\n",
    "print(myList1)"
   ]
  },
  {
   "cell_type": "code",
   "execution_count": 39,
   "id": "81aaf5b5-d30f-456d-8e23-3154d7d7ceb9",
   "metadata": {},
   "outputs": [
    {
     "name": "stdout",
     "output_type": "stream",
     "text": [
      "[1, 1, 1, 1, 1, 2, 2, 2, 2, 2]\n"
     ]
    }
   ],
   "source": [
    "newList = myList + myList1\n",
    "print(newList)"
   ]
  },
  {
   "cell_type": "code",
   "execution_count": 40,
   "id": "4ba59842-2eac-4ccd-9b9f-56e5ba0bd5e6",
   "metadata": {},
   "outputs": [
    {
     "name": "stdout",
     "output_type": "stream",
     "text": [
      "[2, 3, 4, 5]\n"
     ]
    }
   ],
   "source": [
    "myList = [1, 2, 3, 4, 5, 6, 7, 8]\n",
    "a = myList[1:5]\n",
    "print(a)"
   ]
  },
  {
   "cell_type": "code",
   "execution_count": 41,
   "id": "40c1d375-e247-49f6-9755-a2ffdf24d486",
   "metadata": {},
   "outputs": [
    {
     "name": "stdout",
     "output_type": "stream",
     "text": [
      "[1, 2, 3, 4, 5]\n"
     ]
    }
   ],
   "source": [
    "myList = [1, 2, 3, 4, 5, 6, 7, 8]\n",
    "a = myList[:5]\n",
    "print(a)"
   ]
  },
  {
   "cell_type": "code",
   "execution_count": 42,
   "id": "6917daf0-bd31-4381-a14e-a5ba7733f1c5",
   "metadata": {},
   "outputs": [
    {
     "name": "stdout",
     "output_type": "stream",
     "text": [
      "[2, 3, 4, 5, 6, 7, 8]\n"
     ]
    }
   ],
   "source": [
    "myList = [1, 2, 3, 4, 5, 6, 7, 8]\n",
    "a = myList[1:]\n",
    "print(a)"
   ]
  },
  {
   "cell_type": "code",
   "execution_count": 43,
   "id": "8ad1c5b3-4a5b-4988-9c70-4679d28cd4f8",
   "metadata": {},
   "outputs": [
    {
     "name": "stdout",
     "output_type": "stream",
     "text": [
      "[1, 2, 3, 4, 5, 6, 7, 8]\n"
     ]
    }
   ],
   "source": [
    "myList = [1, 2, 3, 4, 5, 6, 7, 8]\n",
    "a = myList[:]\n",
    "print(a)"
   ]
  },
  {
   "cell_type": "code",
   "execution_count": 44,
   "id": "609bfaf3-162f-45bd-92b7-0a1899e03658",
   "metadata": {},
   "outputs": [
    {
     "name": "stdout",
     "output_type": "stream",
     "text": [
      "[1, 2, 3, 4, 5, 6, 7, 8]\n"
     ]
    }
   ],
   "source": [
    "myList = [1, 2, 3, 4, 5, 6, 7, 8]\n",
    "a = myList[::1]\n",
    "print(a)"
   ]
  },
  {
   "cell_type": "code",
   "execution_count": 45,
   "id": "c980e377-e405-42ba-b42e-ae08542d660b",
   "metadata": {},
   "outputs": [
    {
     "name": "stdout",
     "output_type": "stream",
     "text": [
      "[1, 3, 5, 7]\n"
     ]
    }
   ],
   "source": [
    "myList = [1, 2, 3, 4, 5, 6, 7, 8]\n",
    "a = myList[::2]\n",
    "print(a)"
   ]
  },
  {
   "cell_type": "code",
   "execution_count": 46,
   "id": "cd80826b-14e1-4d74-a201-3d03e75a1913",
   "metadata": {},
   "outputs": [
    {
     "name": "stdout",
     "output_type": "stream",
     "text": [
      "[8, 7, 6, 5, 4, 3, 2, 1]\n"
     ]
    }
   ],
   "source": [
    "myList = [1, 2, 3, 4, 5, 6, 7, 8]\n",
    "a = myList[::-1]\n",
    "print(a)"
   ]
  },
  {
   "cell_type": "code",
   "execution_count": 47,
   "id": "d4fc436f-53e0-4e1c-b4c0-ea66f2101278",
   "metadata": {},
   "outputs": [
    {
     "name": "stdout",
     "output_type": "stream",
     "text": [
      "[8, 3]\n"
     ]
    }
   ],
   "source": [
    "myList = [1, 2, 3, 4, 5, 6, 7, 8]\n",
    "a = myList[::-5]\n",
    "print(a)"
   ]
  },
  {
   "cell_type": "code",
   "execution_count": 48,
   "id": "149b3656-ef76-47dc-9e83-c1e99e3913f4",
   "metadata": {},
   "outputs": [
    {
     "name": "stdout",
     "output_type": "stream",
     "text": [
      "['Banana', 'Guava', 'Grapes', 'Cherry']\n",
      "['Banana', 'Guava', 'Grapes', 'Cherry']\n"
     ]
    }
   ],
   "source": [
    "myList = [\"Banana\", \"Guava\", \"Grapes\"]\n",
    "listCopy = myList\n",
    "listCopy.append(\"Cherry\")\n",
    "print(listCopy)\n",
    "print(myList)"
   ]
  },
  {
   "cell_type": "code",
   "execution_count": 49,
   "id": "cb46eee0-30cd-424c-8c81-967315fdefaf",
   "metadata": {},
   "outputs": [
    {
     "name": "stdout",
     "output_type": "stream",
     "text": [
      "['Banana', 'Guava', 'Grapes', 'Cherry']\n",
      "['Banana', 'Guava', 'Grapes']\n"
     ]
    }
   ],
   "source": [
    "myList = [\"Banana\", \"Guava\", \"Grapes\"]\n",
    "listCopy = myList.copy()\n",
    "listCopy.append(\"Cherry\")\n",
    "print(listCopy)\n",
    "print(myList)"
   ]
  },
  {
   "cell_type": "code",
   "execution_count": 50,
   "id": "b6f4f74d-8cbf-482b-9f08-12b6f3ed9e3a",
   "metadata": {},
   "outputs": [
    {
     "name": "stdout",
     "output_type": "stream",
     "text": [
      "['Banana', 'Guava', 'Grapes', 'Cherry']\n",
      "['Banana', 'Guava', 'Grapes']\n"
     ]
    }
   ],
   "source": [
    "myList = [\"Banana\", \"Guava\", \"Grapes\"]\n",
    "listCopy = list(myList)\n",
    "listCopy.append(\"Cherry\")\n",
    "print(listCopy)\n",
    "print(myList)"
   ]
  },
  {
   "cell_type": "code",
   "execution_count": 51,
   "id": "9db6ef98-efad-40da-b970-25eb44afe859",
   "metadata": {},
   "outputs": [
    {
     "name": "stdout",
     "output_type": "stream",
     "text": [
      "['Banana', 'Guava', 'Grapes', 'Cherry']\n",
      "['Banana', 'Guava', 'Grapes']\n"
     ]
    }
   ],
   "source": [
    "myList = [\"Banana\", \"Guava\", \"Grapes\"]\n",
    "listCopy = myList[:]\n",
    "listCopy.append(\"Cherry\")\n",
    "print(listCopy)\n",
    "print(myList)"
   ]
  },
  {
   "cell_type": "code",
   "execution_count": 52,
   "id": "9a0e3bbd-33b7-4e1a-ad1a-3bf305ca25c4",
   "metadata": {},
   "outputs": [
    {
     "name": "stdout",
     "output_type": "stream",
     "text": [
      "[1, 2, 3, 4, 5]\n",
      "[1, 4, 9, 16, 25]\n"
     ]
    }
   ],
   "source": [
    "myList = [1, 2, 3, 4, 5]\n",
    "listComprehension = [i*i for i in myList]\n",
    "print(myList)\n",
    "print(listComprehension)"
   ]
  },
  {
   "cell_type": "code",
   "execution_count": null,
   "id": "4088e048-e6f4-405e-b468-da64f8fcf786",
   "metadata": {},
   "outputs": [],
   "source": []
  }
 ],
 "metadata": {
  "kernelspec": {
   "display_name": "Python 3 (ipykernel)",
   "language": "python",
   "name": "python3"
  },
  "language_info": {
   "codemirror_mode": {
    "name": "ipython",
    "version": 3
   },
   "file_extension": ".py",
   "mimetype": "text/x-python",
   "name": "python",
   "nbconvert_exporter": "python",
   "pygments_lexer": "ipython3",
   "version": "3.10.4"
  }
 },
 "nbformat": 4,
 "nbformat_minor": 5
}
