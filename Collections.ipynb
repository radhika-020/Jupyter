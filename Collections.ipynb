{
 "cells": [
  {
   "cell_type": "code",
   "execution_count": 1,
   "metadata": {},
   "outputs": [
    {
     "name": "stdout",
     "output_type": "stream",
     "text": [
      "Counter({'a': 5, 'b': 4, 'c': 3})\n"
     ]
    }
   ],
   "source": [
    "from collections import Counter\n",
    "\n",
    "myString = \"aaaaabbbbccc\"\n",
    "myCounter = Counter(myString)\n",
    "print(myCounter)"
   ]
  },
  {
   "cell_type": "code",
   "execution_count": 2,
   "metadata": {},
   "outputs": [
    {
     "name": "stdout",
     "output_type": "stream",
     "text": [
      "dict_items([('a', 5), ('b', 4), ('c', 3)])\n"
     ]
    }
   ],
   "source": [
    "from collections import Counter\n",
    "\n",
    "myString = \"aaaaabbbbccc\"\n",
    "myCounter = Counter(myString)\n",
    "print(myCounter.items())"
   ]
  },
  {
   "cell_type": "code",
   "execution_count": 3,
   "metadata": {},
   "outputs": [
    {
     "name": "stdout",
     "output_type": "stream",
     "text": [
      "dict_keys(['a', 'b', 'c'])\n"
     ]
    }
   ],
   "source": [
    "from collections import Counter\n",
    "\n",
    "myString = \"aaaaabbbbccc\"\n",
    "myCounter = Counter(myString)\n",
    "print(myCounter.keys())"
   ]
  },
  {
   "cell_type": "code",
   "execution_count": 4,
   "metadata": {},
   "outputs": [
    {
     "name": "stdout",
     "output_type": "stream",
     "text": [
      "dict_values([5, 4, 3])\n"
     ]
    }
   ],
   "source": [
    "from collections import Counter\n",
    "\n",
    "myString = \"aaaaabbbbccc\"\n",
    "myCounter = Counter(myString)\n",
    "print(myCounter.values())"
   ]
  },
  {
   "cell_type": "code",
   "execution_count": 5,
   "metadata": {},
   "outputs": [
    {
     "name": "stdout",
     "output_type": "stream",
     "text": [
      "Counter({'a': 5, 'b': 4, 'c': 3})\n",
      "[('a', 5)]\n"
     ]
    }
   ],
   "source": [
    "from collections import Counter\n",
    "\n",
    "myString = \"aaaaabbbbccc\"\n",
    "myCounter = Counter(myString)\n",
    "print(myCounter)\n",
    "print(myCounter.most_common(1))"
   ]
  },
  {
   "cell_type": "code",
   "execution_count": 6,
   "metadata": {},
   "outputs": [
    {
     "name": "stdout",
     "output_type": "stream",
     "text": [
      "Counter({'a': 5, 'b': 4, 'c': 3})\n",
      "[('a', 5), ('b', 4)]\n"
     ]
    }
   ],
   "source": [
    "from collections import Counter\n",
    "\n",
    "myString = \"aaaaabbbbccc\"\n",
    "myCounter = Counter(myString)\n",
    "print(myCounter)\n",
    "print(myCounter.most_common(2))"
   ]
  },
  {
   "cell_type": "code",
   "execution_count": 7,
   "metadata": {},
   "outputs": [
    {
     "name": "stderr",
     "output_type": "stream",
     "text": [
      "<>:6: SyntaxWarning: 'int' object is not subscriptable; perhaps you missed a comma?\n",
      "<>:6: SyntaxWarning: 'int' object is not subscriptable; perhaps you missed a comma?\n",
      "C:\\Users\\PC\\AppData\\Local\\Temp\\ipykernel_13116\\852743772.py:6: SyntaxWarning: 'int' object is not subscriptable; perhaps you missed a comma?\n",
      "  print(myCounter.most_common(1[0][0]))\n"
     ]
    },
    {
     "name": "stdout",
     "output_type": "stream",
     "text": [
      "Counter({'a': 5, 'b': 4, 'c': 3})\n"
     ]
    },
    {
     "name": "stderr",
     "output_type": "stream",
     "text": [
      "C:\\Users\\PC\\AppData\\Local\\Temp\\ipykernel_13116\\852743772.py:6: SyntaxWarning: 'int' object is not subscriptable; perhaps you missed a comma?\n",
      "  print(myCounter.most_common(1[0][0]))\n",
      "C:\\Users\\PC\\AppData\\Local\\Temp\\ipykernel_13116\\852743772.py:6: SyntaxWarning: 'int' object is not subscriptable; perhaps you missed a comma?\n",
      "  print(myCounter.most_common(1[0][0]))\n",
      "C:\\Users\\PC\\AppData\\Local\\Temp\\ipykernel_13116\\852743772.py:6: SyntaxWarning: 'int' object is not subscriptable; perhaps you missed a comma?\n",
      "  print(myCounter.most_common(1[0][0]))\n"
     ]
    },
    {
     "ename": "TypeError",
     "evalue": "'int' object is not subscriptable",
     "output_type": "error",
     "traceback": [
      "\u001b[1;31m---------------------------------------------------------------------------\u001b[0m",
      "\u001b[1;31mTypeError\u001b[0m                                 Traceback (most recent call last)",
      "\u001b[1;32mf:\\Jupyter\\Collections.ipynb Cell 7\u001b[0m in \u001b[0;36m<cell line: 6>\u001b[1;34m()\u001b[0m\n\u001b[0;32m      <a href='vscode-notebook-cell:/f%3A/Jupyter/Collections.ipynb#W6sZmlsZQ%3D%3D?line=3'>4</a>\u001b[0m myCounter \u001b[39m=\u001b[39m Counter(myString)\n\u001b[0;32m      <a href='vscode-notebook-cell:/f%3A/Jupyter/Collections.ipynb#W6sZmlsZQ%3D%3D?line=4'>5</a>\u001b[0m \u001b[39mprint\u001b[39m(myCounter)\n\u001b[1;32m----> <a href='vscode-notebook-cell:/f%3A/Jupyter/Collections.ipynb#W6sZmlsZQ%3D%3D?line=5'>6</a>\u001b[0m \u001b[39mprint\u001b[39m(myCounter\u001b[39m.\u001b[39mmost_common(\u001b[39m1\u001b[39;49m[\u001b[39m0\u001b[39;49m][\u001b[39m0\u001b[39m]))\n",
      "\u001b[1;31mTypeError\u001b[0m: 'int' object is not subscriptable"
     ]
    }
   ],
   "source": [
    "from collections import Counter\n",
    "\n",
    "myString = \"aaaaabbbbccc\"\n",
    "myCounter = Counter(myString)\n",
    "print(myCounter)\n",
    "print(myCounter.most_common(1[0][0]))"
   ]
  },
  {
   "cell_type": "code",
   "execution_count": 8,
   "metadata": {},
   "outputs": [
    {
     "name": "stdout",
     "output_type": "stream",
     "text": [
      "Counter({'a': 5, 'b': 4, 'c': 3})\n",
      "a\n"
     ]
    }
   ],
   "source": [
    "from collections import Counter\n",
    "\n",
    "myString = \"aaaaabbbbccc\"\n",
    "myCounter = Counter(myString)\n",
    "print(myCounter)\n",
    "print(myCounter.most_common(1)[0][0])"
   ]
  },
  {
   "cell_type": "code",
   "execution_count": 9,
   "metadata": {},
   "outputs": [
    {
     "name": "stdout",
     "output_type": "stream",
     "text": [
      "Counter({'a': 5, 'b': 4, 'c': 3})\n",
      "('a', 5)\n"
     ]
    }
   ],
   "source": [
    "from collections import Counter\n",
    "\n",
    "myString = \"aaaaabbbbccc\"\n",
    "myCounter = Counter(myString)\n",
    "print(myCounter)\n",
    "print(myCounter.most_common(1)[0])"
   ]
  },
  {
   "cell_type": "code",
   "execution_count": 10,
   "metadata": {},
   "outputs": [
    {
     "name": "stdout",
     "output_type": "stream",
     "text": [
      "Counter({'a': 5, 'b': 4, 'c': 3})\n",
      "<bound method Counter.elements of Counter({'a': 5, 'b': 4, 'c': 3})>\n"
     ]
    }
   ],
   "source": [
    "from collections import Counter\n",
    "\n",
    "myString = \"aaaaabbbbccc\"\n",
    "myCounter = Counter(myString)\n",
    "print(myCounter)\n",
    "print(myCounter.elements)"
   ]
  },
  {
   "cell_type": "code",
   "execution_count": 11,
   "metadata": {},
   "outputs": [
    {
     "name": "stdout",
     "output_type": "stream",
     "text": [
      "Counter({'a': 5, 'b': 4, 'c': 3})\n"
     ]
    },
    {
     "ename": "TypeError",
     "evalue": "'method' object is not iterable",
     "output_type": "error",
     "traceback": [
      "\u001b[1;31m---------------------------------------------------------------------------\u001b[0m",
      "\u001b[1;31mTypeError\u001b[0m                                 Traceback (most recent call last)",
      "\u001b[1;32mf:\\Jupyter\\Collections.ipynb Cell 11\u001b[0m in \u001b[0;36m<cell line: 6>\u001b[1;34m()\u001b[0m\n\u001b[0;32m      <a href='vscode-notebook-cell:/f%3A/Jupyter/Collections.ipynb#X13sZmlsZQ%3D%3D?line=3'>4</a>\u001b[0m myCounter \u001b[39m=\u001b[39m Counter(myString)\n\u001b[0;32m      <a href='vscode-notebook-cell:/f%3A/Jupyter/Collections.ipynb#X13sZmlsZQ%3D%3D?line=4'>5</a>\u001b[0m \u001b[39mprint\u001b[39m(myCounter)\n\u001b[1;32m----> <a href='vscode-notebook-cell:/f%3A/Jupyter/Collections.ipynb#X13sZmlsZQ%3D%3D?line=5'>6</a>\u001b[0m \u001b[39mprint\u001b[39m(\u001b[39mlist\u001b[39;49m(myCounter\u001b[39m.\u001b[39;49melements))\n",
      "\u001b[1;31mTypeError\u001b[0m: 'method' object is not iterable"
     ]
    }
   ],
   "source": [
    "from collections import Counter\n",
    "\n",
    "myString = \"aaaaabbbbccc\"\n",
    "myCounter = Counter(myString)\n",
    "print(myCounter)\n",
    "print(list(myCounter.elements))"
   ]
  },
  {
   "cell_type": "code",
   "execution_count": 12,
   "metadata": {},
   "outputs": [
    {
     "name": "stdout",
     "output_type": "stream",
     "text": [
      "Counter({'a': 5, 'b': 4, 'c': 3})\n",
      "['a', 'a', 'a', 'a', 'a', 'b', 'b', 'b', 'b', 'c', 'c', 'c']\n"
     ]
    }
   ],
   "source": [
    "from collections import Counter\n",
    "\n",
    "myString = \"aaaaabbbbccc\"\n",
    "myCounter = Counter(myString)\n",
    "print(myCounter)\n",
    "print(list(myCounter.elements()))"
   ]
  },
  {
   "cell_type": "code",
   "execution_count": 13,
   "metadata": {},
   "outputs": [
    {
     "name": "stdout",
     "output_type": "stream",
     "text": [
      "Point(x=1, y=-4)\n"
     ]
    }
   ],
   "source": [
    "from collections import namedtuple\n",
    "\n",
    "Point = namedtuple(\"Point\", \"x, y\")\n",
    "point = Point(1, -4)\n",
    "print(point)"
   ]
  },
  {
   "cell_type": "code",
   "execution_count": 14,
   "metadata": {},
   "outputs": [
    {
     "name": "stdout",
     "output_type": "stream",
     "text": [
      "1 -4\n"
     ]
    }
   ],
   "source": [
    "from collections import namedtuple\n",
    "\n",
    "Point = namedtuple(\"Point\", \"x, y\")\n",
    "point = Point(1, -4)\n",
    "print(point.x, point.y)"
   ]
  },
  {
   "cell_type": "code",
   "execution_count": 15,
   "metadata": {},
   "outputs": [
    {
     "name": "stdout",
     "output_type": "stream",
     "text": [
      "OrderedDict([('a', 1), ('b', 2), ('c', 3), ('d', 4)])\n"
     ]
    }
   ],
   "source": [
    "from collections import OrderedDict\n",
    "\n",
    "orderedDict = OrderedDict()\n",
    "orderedDict['a'] = 1\n",
    "orderedDict['b'] = 2\n",
    "orderedDict['c'] = 3\n",
    "orderedDict['d'] = 4\n",
    "print(orderedDict)"
   ]
  },
  {
   "cell_type": "code",
   "execution_count": 16,
   "metadata": {},
   "outputs": [
    {
     "name": "stdout",
     "output_type": "stream",
     "text": [
      "{'a': 1, 'b': 2, 'c': 3, 'd': 4}\n"
     ]
    }
   ],
   "source": [
    "from collections import OrderedDict\n",
    "\n",
    "orderedDict = {}\n",
    "orderedDict['a'] = 1\n",
    "orderedDict['b'] = 2\n",
    "orderedDict['c'] = 3\n",
    "orderedDict['d'] = 4\n",
    "print(orderedDict)"
   ]
  },
  {
   "cell_type": "code",
   "execution_count": 17,
   "metadata": {},
   "outputs": [
    {
     "name": "stdout",
     "output_type": "stream",
     "text": [
      "defaultdict(None, {'a': 1, 'b': 2, 'c': 3, 'd': 4})\n"
     ]
    }
   ],
   "source": [
    "from collections import defaultdict\n",
    "\n",
    "defaultDict = defaultdict()\n",
    "defaultDict['a'] = 1\n",
    "defaultDict['b'] = 2\n",
    "defaultDict['c'] = 3\n",
    "defaultDict['d'] = 4\n",
    "print(defaultDict)"
   ]
  },
  {
   "cell_type": "code",
   "execution_count": 18,
   "metadata": {},
   "outputs": [
    {
     "name": "stdout",
     "output_type": "stream",
     "text": [
      "defaultdict(<class 'int'>, {'a': 1, 'b': 2, 'c': 3, 'd': 4})\n"
     ]
    }
   ],
   "source": [
    "from collections import defaultdict\n",
    "\n",
    "defaultDict = defaultdict(int)\n",
    "defaultDict['a'] = 1\n",
    "defaultDict['b'] = 2\n",
    "defaultDict['c'] = 3\n",
    "defaultDict['d'] = 4\n",
    "print(defaultDict)"
   ]
  },
  {
   "cell_type": "code",
   "execution_count": 19,
   "metadata": {},
   "outputs": [
    {
     "name": "stdout",
     "output_type": "stream",
     "text": [
      "1\n"
     ]
    }
   ],
   "source": [
    "from collections import defaultdict\n",
    "\n",
    "defaultDict = defaultdict()\n",
    "defaultDict['a'] = 1\n",
    "defaultDict['b'] = 2\n",
    "defaultDict['c'] = 3\n",
    "defaultDict['d'] = 4\n",
    "print(defaultDict['a'])"
   ]
  },
  {
   "cell_type": "code",
   "execution_count": 20,
   "metadata": {},
   "outputs": [
    {
     "ename": "KeyError",
     "evalue": "'e'",
     "output_type": "error",
     "traceback": [
      "\u001b[1;31m---------------------------------------------------------------------------\u001b[0m",
      "\u001b[1;31mKeyError\u001b[0m                                  Traceback (most recent call last)",
      "\u001b[1;32mf:\\Jupyter\\Collections.ipynb Cell 20\u001b[0m in \u001b[0;36m<cell line: 8>\u001b[1;34m()\u001b[0m\n\u001b[0;32m      <a href='vscode-notebook-cell:/f%3A/Jupyter/Collections.ipynb#X25sZmlsZQ%3D%3D?line=5'>6</a>\u001b[0m defaultDict[\u001b[39m'\u001b[39m\u001b[39mc\u001b[39m\u001b[39m'\u001b[39m] \u001b[39m=\u001b[39m \u001b[39m3\u001b[39m\n\u001b[0;32m      <a href='vscode-notebook-cell:/f%3A/Jupyter/Collections.ipynb#X25sZmlsZQ%3D%3D?line=6'>7</a>\u001b[0m defaultDict[\u001b[39m'\u001b[39m\u001b[39md\u001b[39m\u001b[39m'\u001b[39m] \u001b[39m=\u001b[39m \u001b[39m4\u001b[39m\n\u001b[1;32m----> <a href='vscode-notebook-cell:/f%3A/Jupyter/Collections.ipynb#X25sZmlsZQ%3D%3D?line=7'>8</a>\u001b[0m \u001b[39mprint\u001b[39m(defaultDict[\u001b[39m'\u001b[39;49m\u001b[39me\u001b[39;49m\u001b[39m'\u001b[39;49m])\n",
      "\u001b[1;31mKeyError\u001b[0m: 'e'"
     ]
    }
   ],
   "source": [
    "from collections import defaultdict\n",
    "\n",
    "defaultDict = defaultdict()\n",
    "defaultDict['a'] = 1\n",
    "defaultDict['b'] = 2\n",
    "defaultDict['c'] = 3\n",
    "defaultDict['d'] = 4\n",
    "print(defaultDict['e'])"
   ]
  },
  {
   "cell_type": "code",
   "execution_count": 21,
   "metadata": {},
   "outputs": [
    {
     "name": "stdout",
     "output_type": "stream",
     "text": [
      "0\n"
     ]
    }
   ],
   "source": [
    "from collections import defaultdict\n",
    "\n",
    "defaultDict = defaultdict(int)\n",
    "defaultDict['a'] = 1\n",
    "defaultDict['b'] = 2\n",
    "defaultDict['c'] = 3\n",
    "defaultDict['d'] = 4\n",
    "print(defaultDict['e'])"
   ]
  },
  {
   "cell_type": "code",
   "execution_count": 22,
   "metadata": {},
   "outputs": [
    {
     "name": "stdout",
     "output_type": "stream",
     "text": [
      "0.0\n"
     ]
    }
   ],
   "source": [
    "from collections import defaultdict\n",
    "\n",
    "defaultDict = defaultdict(float)\n",
    "defaultDict['a'] = 1\n",
    "defaultDict['b'] = 2\n",
    "defaultDict['c'] = 3\n",
    "defaultDict['d'] = 4\n",
    "print(defaultDict['e'])"
   ]
  },
  {
   "cell_type": "code",
   "execution_count": 23,
   "metadata": {},
   "outputs": [
    {
     "name": "stdout",
     "output_type": "stream",
     "text": [
      "[]\n"
     ]
    }
   ],
   "source": [
    "from collections import defaultdict\n",
    "\n",
    "defaultDict = defaultdict(list)\n",
    "defaultDict['a'] = 1\n",
    "defaultDict['b'] = 2\n",
    "defaultDict['c'] = 3\n",
    "defaultDict['d'] = 4\n",
    "print(defaultDict['e'])"
   ]
  },
  {
   "cell_type": "code",
   "execution_count": 24,
   "metadata": {},
   "outputs": [
    {
     "ename": "KeyError",
     "evalue": "'e'",
     "output_type": "error",
     "traceback": [
      "\u001b[1;31m---------------------------------------------------------------------------\u001b[0m",
      "\u001b[1;31mKeyError\u001b[0m                                  Traceback (most recent call last)",
      "\u001b[1;32mf:\\Jupyter\\Collections.ipynb Cell 24\u001b[0m in \u001b[0;36m<cell line: 8>\u001b[1;34m()\u001b[0m\n\u001b[0;32m      <a href='vscode-notebook-cell:/f%3A/Jupyter/Collections.ipynb#X32sZmlsZQ%3D%3D?line=5'>6</a>\u001b[0m defaultDict[\u001b[39m'\u001b[39m\u001b[39mc\u001b[39m\u001b[39m'\u001b[39m] \u001b[39m=\u001b[39m \u001b[39m3\u001b[39m\n\u001b[0;32m      <a href='vscode-notebook-cell:/f%3A/Jupyter/Collections.ipynb#X32sZmlsZQ%3D%3D?line=6'>7</a>\u001b[0m defaultDict[\u001b[39m'\u001b[39m\u001b[39md\u001b[39m\u001b[39m'\u001b[39m] \u001b[39m=\u001b[39m \u001b[39m4\u001b[39m\n\u001b[1;32m----> <a href='vscode-notebook-cell:/f%3A/Jupyter/Collections.ipynb#X32sZmlsZQ%3D%3D?line=7'>8</a>\u001b[0m \u001b[39mprint\u001b[39m(defaultDict[\u001b[39m'\u001b[39;49m\u001b[39me\u001b[39;49m\u001b[39m'\u001b[39;49m])\n",
      "\u001b[1;31mKeyError\u001b[0m: 'e'"
     ]
    }
   ],
   "source": [
    "from collections import defaultdict\n",
    "\n",
    "defaultDict = {}\n",
    "defaultDict['a'] = 1\n",
    "defaultDict['b'] = 2\n",
    "defaultDict['c'] = 3\n",
    "defaultDict['d'] = 4\n",
    "print(defaultDict['e'])"
   ]
  },
  {
   "cell_type": "code",
   "execution_count": 25,
   "metadata": {},
   "outputs": [
    {
     "name": "stdout",
     "output_type": "stream",
     "text": [
      "deque([1, 2, 3, 4])\n"
     ]
    }
   ],
   "source": [
    "from collections import deque\n",
    "\n",
    "d = deque()\n",
    "d.append(1)\n",
    "d.append(2)\n",
    "d.append(3)\n",
    "d.append(4)\n",
    "print(d)"
   ]
  },
  {
   "cell_type": "code",
   "execution_count": 26,
   "metadata": {},
   "outputs": [
    {
     "name": "stdout",
     "output_type": "stream",
     "text": [
      "[1, 2, 3, 4]\n"
     ]
    }
   ],
   "source": [
    "from collections import deque\n",
    "\n",
    "d = []\n",
    "d.append(1)\n",
    "d.append(2)\n",
    "d.append(3)\n",
    "d.append(4)\n",
    "print(d)"
   ]
  },
  {
   "cell_type": "code",
   "execution_count": 27,
   "metadata": {},
   "outputs": [
    {
     "ename": "AttributeError",
     "evalue": "'dict' object has no attribute 'append'",
     "output_type": "error",
     "traceback": [
      "\u001b[1;31m---------------------------------------------------------------------------\u001b[0m",
      "\u001b[1;31mAttributeError\u001b[0m                            Traceback (most recent call last)",
      "\u001b[1;32mf:\\Jupyter\\Collections.ipynb Cell 27\u001b[0m in \u001b[0;36m<cell line: 4>\u001b[1;34m()\u001b[0m\n\u001b[0;32m      <a href='vscode-notebook-cell:/f%3A/Jupyter/Collections.ipynb#X35sZmlsZQ%3D%3D?line=0'>1</a>\u001b[0m \u001b[39mfrom\u001b[39;00m \u001b[39mcollections\u001b[39;00m \u001b[39mimport\u001b[39;00m deque\n\u001b[0;32m      <a href='vscode-notebook-cell:/f%3A/Jupyter/Collections.ipynb#X35sZmlsZQ%3D%3D?line=2'>3</a>\u001b[0m d \u001b[39m=\u001b[39m {}\n\u001b[1;32m----> <a href='vscode-notebook-cell:/f%3A/Jupyter/Collections.ipynb#X35sZmlsZQ%3D%3D?line=3'>4</a>\u001b[0m d\u001b[39m.\u001b[39;49mappend(\u001b[39m1\u001b[39m)\n\u001b[0;32m      <a href='vscode-notebook-cell:/f%3A/Jupyter/Collections.ipynb#X35sZmlsZQ%3D%3D?line=4'>5</a>\u001b[0m d\u001b[39m.\u001b[39mappend(\u001b[39m2\u001b[39m)\n\u001b[0;32m      <a href='vscode-notebook-cell:/f%3A/Jupyter/Collections.ipynb#X35sZmlsZQ%3D%3D?line=5'>6</a>\u001b[0m d\u001b[39m.\u001b[39mappend(\u001b[39m3\u001b[39m)\n",
      "\u001b[1;31mAttributeError\u001b[0m: 'dict' object has no attribute 'append'"
     ]
    }
   ],
   "source": [
    "from collections import deque\n",
    "\n",
    "d = {}\n",
    "d.append(1)\n",
    "d.append(2)\n",
    "d.append(3)\n",
    "d.append(4)\n",
    "print(d)"
   ]
  },
  {
   "cell_type": "code",
   "execution_count": 28,
   "metadata": {},
   "outputs": [
    {
     "name": "stdout",
     "output_type": "stream",
     "text": [
      "deque([0, 1, 2, 3, 4])\n"
     ]
    }
   ],
   "source": [
    "from collections import deque\n",
    "\n",
    "d = deque()\n",
    "d.append(1)\n",
    "d.append(2)\n",
    "d.append(3)\n",
    "d.append(4)\n",
    "d.appendleft(0)\n",
    "print(d)"
   ]
  },
  {
   "cell_type": "code",
   "execution_count": 29,
   "metadata": {},
   "outputs": [
    {
     "name": "stdout",
     "output_type": "stream",
     "text": [
      "deque([0, 1, 2, 3])\n"
     ]
    }
   ],
   "source": [
    "d.pop()\n",
    "print(d)"
   ]
  },
  {
   "cell_type": "code",
   "execution_count": 30,
   "metadata": {},
   "outputs": [
    {
     "name": "stdout",
     "output_type": "stream",
     "text": [
      "deque([1, 2, 3])\n"
     ]
    }
   ],
   "source": [
    "d.popleft()\n",
    "print(d)"
   ]
  },
  {
   "cell_type": "code",
   "execution_count": 31,
   "metadata": {},
   "outputs": [
    {
     "name": "stdout",
     "output_type": "stream",
     "text": [
      "deque([])\n"
     ]
    }
   ],
   "source": [
    "d.clear()\n",
    "print(d)"
   ]
  },
  {
   "cell_type": "code",
   "execution_count": 32,
   "metadata": {},
   "outputs": [],
   "source": [
    "d.extend([4, 5, 6])"
   ]
  },
  {
   "cell_type": "code",
   "execution_count": 33,
   "metadata": {},
   "outputs": [
    {
     "name": "stdout",
     "output_type": "stream",
     "text": [
      "deque([4, 5, 6])\n"
     ]
    }
   ],
   "source": [
    "print(d)"
   ]
  },
  {
   "cell_type": "code",
   "execution_count": 34,
   "metadata": {},
   "outputs": [
    {
     "name": "stdout",
     "output_type": "stream",
     "text": [
      "deque([3, 2, 1, 4, 5, 6])\n"
     ]
    }
   ],
   "source": [
    "d.extendleft([1, 2, 3])\n",
    "print(d)"
   ]
  },
  {
   "cell_type": "code",
   "execution_count": 35,
   "metadata": {},
   "outputs": [
    {
     "name": "stdout",
     "output_type": "stream",
     "text": [
      "deque([6, 3, 2, 1, 4, 5])\n"
     ]
    }
   ],
   "source": [
    "d.rotate(1)\n",
    "print(d)"
   ]
  },
  {
   "cell_type": "code",
   "execution_count": 36,
   "metadata": {},
   "outputs": [
    {
     "name": "stdout",
     "output_type": "stream",
     "text": [
      "deque([4, 5, 6, 3, 2, 1])\n"
     ]
    }
   ],
   "source": [
    "d.rotate(2)\n",
    "print(d)"
   ]
  },
  {
   "cell_type": "code",
   "execution_count": 37,
   "metadata": {},
   "outputs": [
    {
     "name": "stdout",
     "output_type": "stream",
     "text": [
      "deque([5, 6, 3, 2, 1, 4])\n"
     ]
    }
   ],
   "source": [
    "d.rotate(-1)\n",
    "print(d)"
   ]
  },
  {
   "cell_type": "code",
   "execution_count": null,
   "metadata": {},
   "outputs": [],
   "source": []
  }
 ],
 "metadata": {
  "kernelspec": {
   "display_name": "Python 3.10.4 64-bit",
   "language": "python",
   "name": "python3"
  },
  "language_info": {
   "codemirror_mode": {
    "name": "ipython",
    "version": 3
   },
   "file_extension": ".py",
   "mimetype": "text/x-python",
   "name": "python",
   "nbconvert_exporter": "python",
   "pygments_lexer": "ipython3",
   "version": "3.10.4"
  },
  "orig_nbformat": 4,
  "vscode": {
   "interpreter": {
    "hash": "e593ac106456af50ce7af38f9671c411b49d6cd90f9b885e167f0f594e09038c"
   }
  }
 },
 "nbformat": 4,
 "nbformat_minor": 2
}
