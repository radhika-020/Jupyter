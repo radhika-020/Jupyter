{
 "cells": [
  {
   "cell_type": "code",
   "execution_count": 2,
   "id": "d75809ab-d9f9-4de8-9295-122121fa7311",
   "metadata": {},
   "outputs": [
    {
     "ename": "NameError",
     "evalue": "name 'Grapes' is not defined",
     "output_type": "error",
     "traceback": [
      "\u001b[1;31m---------------------------------------------------------------------------\u001b[0m",
      "\u001b[1;31mNameError\u001b[0m                                 Traceback (most recent call last)",
      "Input \u001b[1;32mIn [2]\u001b[0m, in \u001b[0;36m<cell line: 1>\u001b[1;34m()\u001b[0m\n\u001b[1;32m----> 1\u001b[0m myTuple \u001b[38;5;241m=\u001b[39m \u001b[38;5;124m\"\u001b[39m\u001b[38;5;124mBanana\u001b[39m\u001b[38;5;124m\"\u001b[39m, \u001b[38;5;241m1\u001b[39m, \u001b[43mGrapes\u001b[49m\n",
      "\u001b[1;31mNameError\u001b[0m: name 'Grapes' is not defined"
     ]
    }
   ],
   "source": [
    "myTuple = \"Banana\", 1, Grapes"
   ]
  },
  {
   "cell_type": "code",
   "execution_count": 3,
   "id": "67751424-cd86-477d-822e-ee2c785f3f77",
   "metadata": {},
   "outputs": [
    {
     "name": "stdout",
     "output_type": "stream",
     "text": [
      "('Banana', 1, 'Grapes')\n"
     ]
    }
   ],
   "source": [
    "myTuple = \"Banana\", 1, \"Grapes\"\n",
    "print(myTuple)"
   ]
  },
  {
   "cell_type": "code",
   "execution_count": 4,
   "id": "edc36aa6-bf06-4534-a667-2fba34162797",
   "metadata": {},
   "outputs": [
    {
     "name": "stdout",
     "output_type": "stream",
     "text": [
      "('Banana', 1, 'Grapes')\n"
     ]
    }
   ],
   "source": [
    "myTuple = (\"Banana\", 1, \"Grapes\")\n",
    "print(myTuple)"
   ]
  },
  {
   "cell_type": "code",
   "execution_count": 5,
   "id": "ba5f768a-6385-4127-8e4e-ff75e1fd0293",
   "metadata": {},
   "outputs": [
    {
     "name": "stdout",
     "output_type": "stream",
     "text": [
      "()\n"
     ]
    }
   ],
   "source": [
    "myTuple = ()\n",
    "print(myTuple)"
   ]
  },
  {
   "cell_type": "code",
   "execution_count": 6,
   "id": "056f6e40-2b14-4b1f-90af-4ef3447e6014",
   "metadata": {},
   "outputs": [
    {
     "name": "stdout",
     "output_type": "stream",
     "text": [
      "<class 'str'>\n"
     ]
    }
   ],
   "source": [
    "myTuple = (\"Banana\")\n",
    "print(type(myTuple))"
   ]
  },
  {
   "cell_type": "code",
   "execution_count": 7,
   "id": "8a492cf8-3bf8-4777-8b14-e86ac04ebbce",
   "metadata": {},
   "outputs": [
    {
     "name": "stdout",
     "output_type": "stream",
     "text": [
      "<class 'tuple'>\n"
     ]
    }
   ],
   "source": [
    "myTuple = (\"Banana\",)\n",
    "print(type(myTuple))"
   ]
  },
  {
   "cell_type": "code",
   "execution_count": 8,
   "id": "882c1d65-2cb1-4481-bde0-5f1ad658eb3e",
   "metadata": {},
   "outputs": [
    {
     "ename": "SyntaxError",
     "evalue": "'(' was never closed (1318962266.py, line 1)",
     "output_type": "error",
     "traceback": [
      "\u001b[1;36m  Input \u001b[1;32mIn [8]\u001b[1;36m\u001b[0m\n\u001b[1;33m    myTuple = tuple([\"Banana\", 28, \"Guava\"]\u001b[0m\n\u001b[1;37m                   ^\u001b[0m\n\u001b[1;31mSyntaxError\u001b[0m\u001b[1;31m:\u001b[0m '(' was never closed\n"
     ]
    }
   ],
   "source": [
    "myTuple = tuple([\"Banana\", 28, \"Guava\"]\n",
    "print(myTuple)"
   ]
  },
  {
   "cell_type": "code",
   "execution_count": 9,
   "id": "1d7b6614-6df5-47a7-8f40-80bb673ed087",
   "metadata": {},
   "outputs": [
    {
     "name": "stdout",
     "output_type": "stream",
     "text": [
      "('Banana', 28, 'Guava')\n"
     ]
    }
   ],
   "source": [
    "myTuple = tuple([\"Banana\", 28, \"Guava\"])\n",
    "print(myTuple)"
   ]
  },
  {
   "cell_type": "code",
   "execution_count": 10,
   "id": "4a7941c8-fa8e-479a-bd1d-ba5667eb69a4",
   "metadata": {},
   "outputs": [
    {
     "ename": "TypeError",
     "evalue": "'int' object is not iterable",
     "output_type": "error",
     "traceback": [
      "\u001b[1;31m---------------------------------------------------------------------------\u001b[0m",
      "\u001b[1;31mTypeError\u001b[0m                                 Traceback (most recent call last)",
      "Input \u001b[1;32mIn [10]\u001b[0m, in \u001b[0;36m<cell line: 1>\u001b[1;34m()\u001b[0m\n\u001b[1;32m----> 1\u001b[0m item \u001b[38;5;241m=\u001b[39m \u001b[38;5;28;43mtuple\u001b[39;49m\u001b[43m(\u001b[49m\u001b[38;5;241;43m0\u001b[39;49m\u001b[43m)\u001b[49m\n\u001b[0;32m      2\u001b[0m \u001b[38;5;28mprint\u001b[39m(item)\n",
      "\u001b[1;31mTypeError\u001b[0m: 'int' object is not iterable"
     ]
    }
   ],
   "source": [
    "item = tuple(0)\n",
    "print(item)"
   ]
  },
  {
   "cell_type": "code",
   "execution_count": 11,
   "id": "6a67f9a4-5901-47fd-b356-b5ee45f37134",
   "metadata": {},
   "outputs": [
    {
     "name": "stdout",
     "output_type": "stream",
     "text": [
      "tuple[0]\n"
     ]
    }
   ],
   "source": [
    "item = tuple[0]\n",
    "print(item)"
   ]
  },
  {
   "cell_type": "code",
   "execution_count": 12,
   "id": "6002f6e8-bc7b-43ee-9d98-e21580805c40",
   "metadata": {},
   "outputs": [
    {
     "name": "stdout",
     "output_type": "stream",
     "text": [
      "Banana\n"
     ]
    }
   ],
   "source": [
    "item = myTuple[0]\n",
    "print(item)"
   ]
  },
  {
   "cell_type": "code",
   "execution_count": 13,
   "id": "8e1e2b7d-a022-4ad9-95fc-5c14c6089c8d",
   "metadata": {},
   "outputs": [
    {
     "name": "stdout",
     "output_type": "stream",
     "text": [
      "tuple[3]\n"
     ]
    }
   ],
   "source": [
    "item = tuple[0]\n",
    "print(item)"
   ]
  },
  {
   "cell_type": "code",
   "execution_count": 14,
   "id": "e74e81b3-5577-4eec-b984-1ecedd1dd3de",
   "metadata": {},
   "outputs": [
    {
     "ename": "IndexError",
     "evalue": "tuple index out of range",
     "output_type": "error",
     "traceback": [
      "\u001b[1;31m---------------------------------------------------------------------------\u001b[0m",
      "\u001b[1;31mIndexError\u001b[0m                                Traceback (most recent call last)",
      "Input \u001b[1;32mIn [14]\u001b[0m, in \u001b[0;36m<cell line: 1>\u001b[1;34m()\u001b[0m\n\u001b[1;32m----> 1\u001b[0m item \u001b[38;5;241m=\u001b[39m \u001b[43mmyTuple\u001b[49m\u001b[43m[\u001b[49m\u001b[38;5;241;43m3\u001b[39;49m\u001b[43m]\u001b[49m\n\u001b[0;32m      2\u001b[0m \u001b[38;5;28mprint\u001b[39m(item)\n",
      "\u001b[1;31mIndexError\u001b[0m: tuple index out of range"
     ]
    }
   ],
   "source": [
    "item = myTuple[3]\n",
    "print(item)"
   ]
  },
  {
   "cell_type": "code",
   "execution_count": 15,
   "id": "d2587b2e-52e1-4850-906c-e43d46c1ee88",
   "metadata": {},
   "outputs": [
    {
     "name": "stdout",
     "output_type": "stream",
     "text": [
      "Guava\n"
     ]
    }
   ],
   "source": [
    "item = myTuple[-1]\n",
    "print(item)"
   ]
  },
  {
   "cell_type": "code",
   "execution_count": 16,
   "id": "668d7968-b531-43d4-9333-edd67d8288f2",
   "metadata": {},
   "outputs": [
    {
     "ename": "TypeError",
     "evalue": "'tuple' object does not support item assignment",
     "output_type": "error",
     "traceback": [
      "\u001b[1;31m---------------------------------------------------------------------------\u001b[0m",
      "\u001b[1;31mTypeError\u001b[0m                                 Traceback (most recent call last)",
      "Input \u001b[1;32mIn [16]\u001b[0m, in \u001b[0;36m<cell line: 1>\u001b[1;34m()\u001b[0m\n\u001b[1;32m----> 1\u001b[0m \u001b[43mmyTuple\u001b[49m\u001b[43m[\u001b[49m\u001b[38;5;241;43m0\u001b[39;49m\u001b[43m]\u001b[49m \u001b[38;5;241m=\u001b[39m \u001b[38;5;124m\"\u001b[39m\u001b[38;5;124mGrapes\u001b[39m\u001b[38;5;124m\"\u001b[39m\n",
      "\u001b[1;31mTypeError\u001b[0m: 'tuple' object does not support item assignment"
     ]
    }
   ],
   "source": [
    "myTuple[0] = \"Grapes\""
   ]
  },
  {
   "cell_type": "raw",
   "id": "aa18bf34-7570-44ad-98d6-3a45542ba1b1",
   "metadata": {},
   "source": [
    "for i in myTuple:\n",
    "    print(i)"
   ]
  },
  {
   "cell_type": "code",
   "execution_count": 17,
   "id": "710ccce5-2988-4292-b2c0-6f85efae241a",
   "metadata": {},
   "outputs": [
    {
     "name": "stdout",
     "output_type": "stream",
     "text": [
      "('Banana', 28, 'Guava')\n"
     ]
    }
   ],
   "source": [
    "print(myTuple)"
   ]
  },
  {
   "cell_type": "code",
   "execution_count": 18,
   "id": "d4a546f1-5929-44e1-a6fb-0b50418673bd",
   "metadata": {},
   "outputs": [
    {
     "name": "stdout",
     "output_type": "stream",
     "text": [
      "Banana\n",
      "28\n",
      "Guava\n"
     ]
    }
   ],
   "source": [
    "for i in myTuple:\n",
    "    print(i)\n",
    "    "
   ]
  },
  {
   "cell_type": "code",
   "execution_count": 19,
   "id": "a64e9d63-7966-4903-aba1-fe50397640dd",
   "metadata": {},
   "outputs": [
    {
     "ename": "SyntaxError",
     "evalue": "unterminated string literal (detected at line 2) (1354633179.py, line 2)",
     "output_type": "error",
     "traceback": [
      "\u001b[1;36m  Input \u001b[1;32mIn [19]\u001b[1;36m\u001b[0m\n\u001b[1;33m    print(\"Yes)\u001b[0m\n\u001b[1;37m          ^\u001b[0m\n\u001b[1;31mSyntaxError\u001b[0m\u001b[1;31m:\u001b[0m unterminated string literal (detected at line 2)\n"
     ]
    }
   ],
   "source": [
    "if \"Banana\" in myTuple:\n",
    "    print(\"Yes)"
   ]
  },
  {
   "cell_type": "code",
   "execution_count": 20,
   "id": "0fc41864-3052-46eb-84bf-0e2b16c52502",
   "metadata": {},
   "outputs": [
    {
     "name": "stdout",
     "output_type": "stream",
     "text": [
      "Yes\n"
     ]
    }
   ],
   "source": [
    "if \"Banana\" in myTuple:\n",
    "    print(\"Yes\")"
   ]
  },
  {
   "cell_type": "code",
   "execution_count": 21,
   "id": "6f960d96-0120-45be-b85c-1d93c5a0a652",
   "metadata": {},
   "outputs": [
    {
     "name": "stdout",
     "output_type": "stream",
     "text": [
      "No\n"
     ]
    }
   ],
   "source": [
    "if \"banana\" in myTuple:\n",
    "    print(\"Yes\")\n",
    "else:\n",
    "    print(\"No\")"
   ]
  },
  {
   "cell_type": "code",
   "execution_count": 22,
   "id": "7f92491c-58cf-486e-a450-64f94155e2f4",
   "metadata": {},
   "outputs": [
    {
     "name": "stdout",
     "output_type": "stream",
     "text": [
      "3\n"
     ]
    }
   ],
   "source": [
    "print(len(myTuple))"
   ]
  },
  {
   "cell_type": "code",
   "execution_count": 23,
   "id": "e8ebe7d0-ba60-4132-b220-dcc5b24f541f",
   "metadata": {},
   "outputs": [
    {
     "name": "stdout",
     "output_type": "stream",
     "text": [
      "1\n"
     ]
    }
   ],
   "source": [
    "print(myTuple.count(\"Banana\"))"
   ]
  },
  {
   "cell_type": "code",
   "execution_count": 24,
   "id": "4946dff0-552a-4bf1-a4b5-fd1b7341b067",
   "metadata": {},
   "outputs": [
    {
     "name": "stdout",
     "output_type": "stream",
     "text": [
      "0\n"
     ]
    }
   ],
   "source": [
    "print(myTuple.count(\"banana\"))"
   ]
  },
  {
   "cell_type": "code",
   "execution_count": 25,
   "id": "1c6c5d7d-b3f2-4331-a95b-f9446fe1daef",
   "metadata": {},
   "outputs": [
    {
     "name": "stdout",
     "output_type": "stream",
     "text": [
      "0\n"
     ]
    }
   ],
   "source": [
    "print(myTuple.index(\"Banana\"))"
   ]
  },
  {
   "cell_type": "code",
   "execution_count": 26,
   "id": "c229fb1e-c034-44ab-9a72-54f4ce138f82",
   "metadata": {},
   "outputs": [
    {
     "name": "stdout",
     "output_type": "stream",
     "text": [
      "0\n"
     ]
    }
   ],
   "source": [
    "print(myTuple.count(\"banana\"))"
   ]
  },
  {
   "cell_type": "code",
   "execution_count": 27,
   "id": "e0da43d8-c55e-4854-a152-5639381102c1",
   "metadata": {},
   "outputs": [
    {
     "name": "stdout",
     "output_type": "stream",
     "text": [
      "0\n"
     ]
    }
   ],
   "source": [
    "print(myTuple.index(\"Banana\"))"
   ]
  },
  {
   "cell_type": "code",
   "execution_count": 28,
   "id": "2749ff47-52ed-43c1-ade8-a9ab5d16681e",
   "metadata": {},
   "outputs": [
    {
     "ename": "ValueError",
     "evalue": "tuple.index(x): x not in tuple",
     "output_type": "error",
     "traceback": [
      "\u001b[1;31m---------------------------------------------------------------------------\u001b[0m",
      "\u001b[1;31mValueError\u001b[0m                                Traceback (most recent call last)",
      "Input \u001b[1;32mIn [28]\u001b[0m, in \u001b[0;36m<cell line: 1>\u001b[1;34m()\u001b[0m\n\u001b[1;32m----> 1\u001b[0m \u001b[38;5;28mprint\u001b[39m(\u001b[43mmyTuple\u001b[49m\u001b[38;5;241;43m.\u001b[39;49m\u001b[43mindex\u001b[49m\u001b[43m(\u001b[49m\u001b[38;5;124;43m\"\u001b[39;49m\u001b[38;5;124;43mbanana\u001b[39;49m\u001b[38;5;124;43m\"\u001b[39;49m\u001b[43m)\u001b[49m)\n",
      "\u001b[1;31mValueError\u001b[0m: tuple.index(x): x not in tuple"
     ]
    }
   ],
   "source": [
    "print(myTuple.index(\"banana\"))"
   ]
  },
  {
   "cell_type": "code",
   "execution_count": 29,
   "id": "ea64c95d-3c6f-4d8d-864e-30027f7c683d",
   "metadata": {},
   "outputs": [
    {
     "name": "stdout",
     "output_type": "stream",
     "text": [
      "('Banana', 28, 'Guava')\n"
     ]
    }
   ],
   "source": [
    "myList = tuple(myTuple)\n",
    "print(myList)"
   ]
  },
  {
   "cell_type": "code",
   "execution_count": 30,
   "id": "ec7c0b9d-3e56-4b2f-8f1e-6d303777e42f",
   "metadata": {},
   "outputs": [
    {
     "name": "stdout",
     "output_type": "stream",
     "text": [
      "['Banana', 28, 'Guava']\n"
     ]
    }
   ],
   "source": [
    "myList = list(myTuple)\n",
    "print(myList)"
   ]
  },
  {
   "cell_type": "code",
   "execution_count": 31,
   "id": "ccc8b26a-0a4c-4957-8891-40e58ddbc295",
   "metadata": {},
   "outputs": [
    {
     "name": "stdout",
     "output_type": "stream",
     "text": [
      "(28, 'Guava')\n"
     ]
    }
   ],
   "source": [
    "slicing = myTuple[1:5]\n",
    "print(slicing)"
   ]
  },
  {
   "cell_type": "code",
   "execution_count": 32,
   "id": "3afdb03f-b2b7-42b1-a28f-49862a9e515c",
   "metadata": {},
   "outputs": [
    {
     "name": "stdout",
     "output_type": "stream",
     "text": [
      "('Banana', 28, 'Guava')\n"
     ]
    }
   ],
   "source": [
    "slicing = myTuple[:]\n",
    "print(slicing)"
   ]
  },
  {
   "cell_type": "code",
   "execution_count": 33,
   "id": "d75aac3a-c0a6-4c00-89fc-a906ff45d61e",
   "metadata": {},
   "outputs": [
    {
     "name": "stdout",
     "output_type": "stream",
     "text": [
      "('Guava', 28, 'Banana')\n"
     ]
    }
   ],
   "source": [
    "slicing = myTuple[::-1]\n",
    "print(slicing)"
   ]
  },
  {
   "cell_type": "code",
   "execution_count": 34,
   "id": "77036d02-f5b7-4b9a-8edc-620052508643",
   "metadata": {},
   "outputs": [
    {
     "name": "stdout",
     "output_type": "stream",
     "text": [
      "(28, 'Banana')\n"
     ]
    }
   ],
   "source": [
    "slicing = myTuple[1::-1]\n",
    "print(slicing)"
   ]
  },
  {
   "cell_type": "code",
   "execution_count": 35,
   "id": "9fb03105-79e0-4849-8660-b298f2375c8e",
   "metadata": {},
   "outputs": [
    {
     "name": "stdout",
     "output_type": "stream",
     "text": [
      "(28, 'Guava')\n"
     ]
    }
   ],
   "source": [
    "slicing = myTuple[1::]\n",
    "print(slicing)"
   ]
  },
  {
   "cell_type": "code",
   "execution_count": 36,
   "id": "23027d8c-271f-429a-b574-49b86db8ff70",
   "metadata": {},
   "outputs": [
    {
     "name": "stdout",
     "output_type": "stream",
     "text": [
      "('Banana', 28, 'Guava')\n"
     ]
    }
   ],
   "source": [
    "slicing = myTuple[::1]\n",
    "print(slicing)"
   ]
  },
  {
   "cell_type": "code",
   "execution_count": 37,
   "id": "0969dcad-0913-42b2-8927-cdbb0a218e03",
   "metadata": {},
   "outputs": [
    {
     "name": "stdout",
     "output_type": "stream",
     "text": [
      "('Banana', 'Guava')\n"
     ]
    }
   ],
   "source": [
    "slicing = myTuple[::2]\n",
    "print(slicing)"
   ]
  },
  {
   "cell_type": "code",
   "execution_count": 38,
   "id": "11e3387a-496f-4540-af34-8fde0a32d7aa",
   "metadata": {},
   "outputs": [
    {
     "ename": "SyntaxError",
     "evalue": "invalid syntax (159750280.py, line 1)",
     "output_type": "error",
     "traceback": [
      "\u001b[1;36m  Input \u001b[1;32mIn [38]\u001b[1;36m\u001b[0m\n\u001b[1;33m    myTuple = \"Radhika\", 21. \"Prayagraj\"\u001b[0m\n\u001b[1;37m                             ^\u001b[0m\n\u001b[1;31mSyntaxError\u001b[0m\u001b[1;31m:\u001b[0m invalid syntax\n"
     ]
    }
   ],
   "source": [
    "myTuple = \"Radhika\", 21. \"Prayagraj\"\n",
    "name, age, city = myTuple\n",
    "print(name)\n",
    "print(age)\n",
    "print(city)"
   ]
  },
  {
   "cell_type": "code",
   "execution_count": 39,
   "id": "49b46cf2-db0d-4965-9ff2-8a9cd29da2a9",
   "metadata": {},
   "outputs": [
    {
     "name": "stdout",
     "output_type": "stream",
     "text": [
      "Radhika\n",
      "21\n",
      "Prayagraj\n"
     ]
    }
   ],
   "source": [
    "myTuple = \"Radhika\", 21, \"Prayagraj\"\n",
    "name, age, city = myTuple\n",
    "print(name)\n",
    "print(age)\n",
    "print(city)"
   ]
  },
  {
   "cell_type": "code",
   "execution_count": 40,
   "id": "9bbdb769-5123-419e-a610-f740b87218a5",
   "metadata": {},
   "outputs": [
    {
     "ename": "SyntaxError",
     "evalue": "invalid syntax (2510638250.py, line 1)",
     "output_type": "error",
     "traceback": [
      "\u001b[1;36m  Input \u001b[1;32mIn [40]\u001b[1;36m\u001b[0m\n\u001b[1;33m    myTuple = \"Radhika\", 21. \"Prayagraj\"\u001b[0m\n\u001b[1;37m                             ^\u001b[0m\n\u001b[1;31mSyntaxError\u001b[0m\u001b[1;31m:\u001b[0m invalid syntax\n"
     ]
    }
   ],
   "source": [
    "myTuple = \"Radhika\", 21. \"Prayagraj\"\n",
    "name, city, age = myTuple\n",
    "print(name)\n",
    "print(age)\n",
    "print(city)"
   ]
  },
  {
   "cell_type": "code",
   "execution_count": 41,
   "id": "d7dfb83e-3aee-4be4-8451-8cee08168c21",
   "metadata": {},
   "outputs": [
    {
     "name": "stdout",
     "output_type": "stream",
     "text": [
      "Radhika\n",
      "Prayagraj\n",
      "21\n"
     ]
    }
   ],
   "source": [
    "myTuple = \"Radhika\", 21, \"Prayagraj\"\n",
    "name, city, age = myTuple\n",
    "print(name)\n",
    "print(age)\n",
    "print(city)"
   ]
  },
  {
   "cell_type": "code",
   "execution_count": 42,
   "id": "f1c976be-01d7-4a5e-90a9-ce0944a65665",
   "metadata": {},
   "outputs": [
    {
     "name": "stdout",
     "output_type": "stream",
     "text": [
      "1\n",
      "[2, 3, 4, 5]\n",
      "6\n"
     ]
    }
   ],
   "source": [
    "myTuple = (1, 2, 3, 4, 5, 6)\n",
    "i1, *i2, i3 = myTuple\n",
    "print(i1)\n",
    "print(i2)\n",
    "print(i3)"
   ]
  },
  {
   "cell_type": "code",
   "execution_count": 43,
   "id": "7306fc2e-fc21-4e8b-87d8-68008e0a3c1a",
   "metadata": {},
   "outputs": [
    {
     "name": "stdout",
     "output_type": "stream",
     "text": [
      "120 bytes\n",
      "80 bytes\n"
     ]
    }
   ],
   "source": [
    "import sys\n",
    "myList = [1, 2, 3, \"Hello\", True]\n",
    "myTuple = (1, 2, 3, \"Hello\", True)\n",
    "print(sys.getsizeof(myList), \"bytes\")\n",
    "print(sys.getsizeof(myTuple), \"bytes\")"
   ]
  },
  {
   "cell_type": "code",
   "execution_count": 44,
   "id": "23337241-6298-4e49-a2f5-5508bbeb7f76",
   "metadata": {},
   "outputs": [
    {
     "ename": "SyntaxError",
     "evalue": "'(' was never closed (2615246522.py, line 3)",
     "output_type": "error",
     "traceback": [
      "\u001b[1;36m  Input \u001b[1;32mIn [44]\u001b[1;36m\u001b[0m\n\u001b[1;33m    print(timeit.timeit(stmt = \"(1, 2, 3, 4, 5)\", number = 100000)\u001b[0m\n\u001b[1;37m         ^\u001b[0m\n\u001b[1;31mSyntaxError\u001b[0m\u001b[1;31m:\u001b[0m '(' was never closed\n"
     ]
    }
   ],
   "source": [
    "import timeit\n",
    "print(timeit.timeit(stmt = \"[1, 2, 3, 4, 5]\", number = 100000)\n",
    "print(timeit.timeit(stmt = \"(1, 2, 3, 4, 5)\", number = 100000)   "
   ]
  },
  {
   "cell_type": "code",
   "execution_count": 45,
   "id": "94c333d4-8780-4905-9621-8a713fea5b63",
   "metadata": {},
   "outputs": [
    {
     "name": "stdout",
     "output_type": "stream",
     "text": [
      "0.018330699997022748\n",
      "0.007449000026099384\n"
     ]
    }
   ],
   "source": [
    "import timeit\n",
    "print(timeit.timeit(stmt = \"[1, 2, 3, 4, 5]\", number = 100000))\n",
    "print(timeit.timeit(stmt = \"(1, 2, 3, 4, 5)\", number = 100000))"
   ]
  },
  {
   "cell_type": "code",
   "execution_count": null,
   "id": "04ed91c0-ab6b-4b87-b9b5-da1ff309077f",
   "metadata": {},
   "outputs": [],
   "source": []
  }
 ],
 "metadata": {
  "kernelspec": {
   "display_name": "Python 3 (ipykernel)",
   "language": "python",
   "name": "python3"
  },
  "language_info": {
   "codemirror_mode": {
    "name": "ipython",
    "version": 3
   },
   "file_extension": ".py",
   "mimetype": "text/x-python",
   "name": "python",
   "nbconvert_exporter": "python",
   "pygments_lexer": "ipython3",
   "version": "3.10.4"
  }
 },
 "nbformat": 4,
 "nbformat_minor": 5
}
