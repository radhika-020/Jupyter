{
 "cells": [
  {
   "cell_type": "markdown",
   "metadata": {},
   "source": [
    "import logging\n",
    "logging.warning(\"This is a warning message.\")"
   ]
  },
  {
   "cell_type": "markdown",
   "metadata": {},
   "source": []
  },
  {
   "cell_type": "code",
   "execution_count": 1,
   "metadata": {},
   "outputs": [
    {
     "name": "stderr",
     "output_type": "stream",
     "text": [
      "WARNING:root:This is a warning message,\n",
      "CRITICAL:root:This is a critical message.\n",
      "ERROR:root:This is an error message.\n"
     ]
    }
   ],
   "source": [
    "import logging\n",
    "\n",
    "logging.warning(\"This is a warning message,\")\n",
    "logging.debug(\"This is a debug message.\")\n",
    "logging.info(\"This is a info message\")\n",
    "logging.critical(\"This is a critical message.\")\n",
    "logging.error(\"This is an error message.\")"
   ]
  },
  {
   "cell_type": "code",
   "execution_count": 3,
   "metadata": {},
   "outputs": [
    {
     "name": "stderr",
     "output_type": "stream",
     "text": [
      "WARNING:root:This is a warning message,\n",
      "CRITICAL:root:This is a critical message.\n",
      "ERROR:root:This is an error message.\n"
     ]
    }
   ],
   "source": [
    "import logging\n",
    "logging.basicConfig(level=logging.DEBUG, format='%(asctime)s - %(name)s - %(levelname)s - %(message)s', \n",
    "datefmt='%m/%d/%Y %H:%M:%S')\n",
    "\n",
    "logging.warning(\"This is a warning message,\")\n",
    "logging.debug(\"This is a debug message.\")\n",
    "logging.info(\"This is a info message\")\n",
    "logging.critical(\"This is a critical message.\")\n",
    "logging.error(\"This is an error message.\")"
   ]
  },
  {
   "cell_type": "code",
   "execution_count": 4,
   "metadata": {},
   "outputs": [],
   "source": [
    "import logging\n",
    "logger = logging.getLogger(__name__)\n",
    "logger.info(\"Help from Radhika.\")"
   ]
  },
  {
   "cell_type": "code",
   "execution_count": 5,
   "metadata": {},
   "outputs": [],
   "source": [
    "import logging\n",
    "logger = logging.getLogger(__name__)\n",
    "logger.propagate = False\n",
    "logger.info(\"Help from Radhika.\")"
   ]
  },
  {
   "cell_type": "code",
   "execution_count": null,
   "metadata": {},
   "outputs": [],
   "source": [
    "\n"
   ]
  }
 ],
 "metadata": {
  "kernelspec": {
   "display_name": "Python 3.10.4 64-bit",
   "language": "python",
   "name": "python3"
  },
  "language_info": {
   "codemirror_mode": {
    "name": "ipython",
    "version": 3
   },
   "file_extension": ".py",
   "mimetype": "text/x-python",
   "name": "python",
   "nbconvert_exporter": "python",
   "pygments_lexer": "ipython3",
   "version": "3.10.4"
  },
  "orig_nbformat": 4,
  "vscode": {
   "interpreter": {
    "hash": "e593ac106456af50ce7af38f9671c411b49d6cd90f9b885e167f0f594e09038c"
   }
  }
 },
 "nbformat": 4,
 "nbformat_minor": 2
}
