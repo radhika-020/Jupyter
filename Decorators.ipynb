{
 "cells": [
  {
   "cell_type": "code",
   "execution_count": 2,
   "metadata": {},
   "outputs": [
    {
     "name": "stdout",
     "output_type": "stream",
     "text": [
      "Start\n",
      "Radhika\n",
      "End\n"
     ]
    }
   ],
   "source": [
    "#There are two different decorators : - Function(More common and in use) and Class Decorators.\n",
    "#A decorator is a function that takes another function as an argument and extends the behaviour of that function. It allows us to add new technologies to an existing function.\n",
    "def start_end_decorator(func):\n",
    "    def wrapper():\n",
    "        print(\"Start\")\n",
    "        func()\n",
    "        print(\"End\")\n",
    "    return wrapper\n",
    "\n",
    "def print_name():\n",
    "    print(\"Radhika\")\n",
    "\n",
    "print_name = start_end_decorator(print_name)\n",
    "\n",
    "print_name()"
   ]
  },
  {
   "cell_type": "code",
   "execution_count": 3,
   "metadata": {},
   "outputs": [
    {
     "name": "stdout",
     "output_type": "stream",
     "text": [
      "Start\n",
      "Radhika\n",
      "End\n"
     ]
    }
   ],
   "source": [
    "def start_end_decorator(func):\n",
    "    def wrapper():\n",
    "        print(\"Start\")\n",
    "        func()\n",
    "        print(\"End\")\n",
    "    return wrapper\n",
    "    \n",
    "@start_end_decorator\n",
    "def print_name():\n",
    "    print(\"Radhika\")\n",
    "\n",
    "print_name()"
   ]
  },
  {
   "cell_type": "code",
   "execution_count": 5,
   "metadata": {},
   "outputs": [
    {
     "ename": "TypeError",
     "evalue": "start_end_decorator.<locals>.wrapper() takes 0 positional arguments but 1 was given",
     "output_type": "error",
     "traceback": [
      "\u001b[1;31m---------------------------------------------------------------------------\u001b[0m",
      "\u001b[1;31mTypeError\u001b[0m                                 Traceback (most recent call last)",
      "\u001b[1;32mf:\\Jupyter\\Decorators.ipynb Cell 3\u001b[0m in \u001b[0;36m<cell line: 13>\u001b[1;34m()\u001b[0m\n\u001b[0;32m     <a href='vscode-notebook-cell:/f%3A/Jupyter/Decorators.ipynb#W2sZmlsZQ%3D%3D?line=9'>10</a>\u001b[0m     \u001b[39mprint\u001b[39m(x\u001b[39m+\u001b[39m\u001b[39m5\u001b[39m)\n\u001b[0;32m     <a href='vscode-notebook-cell:/f%3A/Jupyter/Decorators.ipynb#W2sZmlsZQ%3D%3D?line=10'>11</a>\u001b[0m     \u001b[39mreturn\u001b[39;00m adds\n\u001b[1;32m---> <a href='vscode-notebook-cell:/f%3A/Jupyter/Decorators.ipynb#W2sZmlsZQ%3D%3D?line=12'>13</a>\u001b[0m adds(\u001b[39m10\u001b[39;49m)\n",
      "\u001b[1;31mTypeError\u001b[0m: start_end_decorator.<locals>.wrapper() takes 0 positional arguments but 1 was given"
     ]
    }
   ],
   "source": [
    "def start_end_decorator(func):\n",
    "    def wrapper():\n",
    "        print(\"Start\")\n",
    "        func()\n",
    "        print(\"End\")\n",
    "    return wrapper\n",
    "    \n",
    "@start_end_decorator\n",
    "def adds(x):\n",
    "    print(x+5)\n",
    "    return adds\n",
    "\n",
    "adds(10)"
   ]
  },
  {
   "cell_type": "code",
   "execution_count": 6,
   "metadata": {},
   "outputs": [
    {
     "name": "stdout",
     "output_type": "stream",
     "text": [
      "Start\n",
      "15\n",
      "End\n"
     ]
    }
   ],
   "source": [
    "def start_end_decorator(func):\n",
    "    def wrapper(*args, **kwargs):\n",
    "        print(\"Start\")\n",
    "        func(*args, **kwargs)\n",
    "        print(\"End\")\n",
    "    return wrapper\n",
    "    \n",
    "@start_end_decorator\n",
    "def adds(x):\n",
    "    print(x+5)\n",
    "    return adds\n",
    "\n",
    "adds(10)"
   ]
  },
  {
   "cell_type": "code",
   "execution_count": 7,
   "metadata": {},
   "outputs": [
    {
     "name": "stdout",
     "output_type": "stream",
     "text": [
      "Start\n",
      "End\n",
      "None\n"
     ]
    }
   ],
   "source": [
    "def start_end_decorator(func):\n",
    "    def wrapper(*args, **kwargs):\n",
    "        print(\"Start\")\n",
    "        func(*args, **kwargs)\n",
    "        print(\"End\")\n",
    "    return wrapper\n",
    "    \n",
    "@start_end_decorator\n",
    "def adds(x):\n",
    "    return adds\n",
    "\n",
    "result = adds(10)\n",
    "print(result)"
   ]
  },
  {
   "cell_type": "code",
   "execution_count": 10,
   "metadata": {},
   "outputs": [
    {
     "name": "stdout",
     "output_type": "stream",
     "text": [
      "Start\n",
      "End\n",
      "15\n"
     ]
    }
   ],
   "source": [
    "def start_end_decorator(func):\n",
    "    def wrapper(*args, **kwargs):\n",
    "        print(\"Start\")\n",
    "        result = func(*args, **kwargs)\n",
    "        print(\"End\")\n",
    "        return result\n",
    "    return wrapper\n",
    "    \n",
    "@start_end_decorator\n",
    "def adds(x):\n",
    "    return x + 5\n",
    "\n",
    "result = adds(10)\n",
    "print(result)"
   ]
  },
  {
   "cell_type": "code",
   "execution_count": 11,
   "metadata": {},
   "outputs": [
    {
     "name": "stdout",
     "output_type": "stream",
     "text": [
      "Help on function wrapper in module __main__:\n",
      "\n",
      "wrapper(*args, **kwargs)\n",
      "\n",
      "None\n",
      "wrapper\n"
     ]
    }
   ],
   "source": [
    "print(help(adds)) #This will print the helper function of adds.\n",
    "print(adds.__name__)"
   ]
  },
  {
   "cell_type": "code",
   "execution_count": 12,
   "metadata": {},
   "outputs": [
    {
     "name": "stdout",
     "output_type": "stream",
     "text": [
      "Start\n",
      "End\n",
      "15\n"
     ]
    }
   ],
   "source": [
    "#This got confused as who is the real function, adds or wrapper, therefore to fix this,\n",
    "import functools\n",
    "\n",
    "def start_end_decorator(func):\n",
    "\n",
    "    @functools.wraps(func)\n",
    "    def wrapper(*args, **kwargs):\n",
    "        print(\"Start\")\n",
    "        result = func(*args, **kwargs)\n",
    "        print(\"End\")\n",
    "        return result\n",
    "    return wrapper\n",
    "    \n",
    "@start_end_decorator\n",
    "def adds(x):\n",
    "    return x + 5\n",
    "\n",
    "result = adds(10)\n",
    "print(result)"
   ]
  },
  {
   "cell_type": "code",
   "execution_count": 14,
   "metadata": {},
   "outputs": [
    {
     "name": "stdout",
     "output_type": "stream",
     "text": [
      "Start\n",
      "End\n",
      "Help on function adds in module __main__:\n",
      "\n",
      "adds(x)\n",
      "\n",
      "None\n",
      "adds\n"
     ]
    }
   ],
   "source": [
    "import functools\n",
    "\n",
    "def start_end_decorator(func):\n",
    "\n",
    "    @functools.wraps(func)\n",
    "    def wrapper(*args, **kwargs):\n",
    "        print(\"Start\")\n",
    "        result = func(*args, **kwargs)\n",
    "        print(\"End\")\n",
    "        return result\n",
    "    return wrapper\n",
    "    \n",
    "@start_end_decorator\n",
    "def adds(x):\n",
    "    return x + 5\n",
    "\n",
    "result = adds(10)\n",
    "print(help(adds))\n",
    "print(adds.__name__)"
   ]
  },
  {
   "cell_type": "code",
   "execution_count": 15,
   "metadata": {},
   "outputs": [
    {
     "name": "stdout",
     "output_type": "stream",
     "text": [
      "Hello Radhika\n",
      "Hello Radhika\n",
      "Hello Radhika\n"
     ]
    }
   ],
   "source": [
    "#Decorators with arguments\n",
    "import functools\n",
    "def repeat(num_times):\n",
    "    def decorator_repeat(func):\n",
    "        @functools.wraps(func)\n",
    "        def wrapper(*args, **kwargs):\n",
    "            for _ in range(num_times):\n",
    "                result = func(*args, **kwargs)\n",
    "            return result\n",
    "        return wrapper\n",
    "    return decorator_repeat\n",
    "\n",
    "@repeat(num_times=3)\n",
    "def greet(name):\n",
    "    print(f\"Hello {name}\")\n",
    "\n",
    "greet(\"Radhika\")"
   ]
  },
  {
   "cell_type": "code",
   "execution_count": 18,
   "metadata": {},
   "outputs": [
    {
     "name": "stdout",
     "output_type": "stream",
     "text": [
      "calling say_hello('Radhika')\n",
      "Start\n",
      "Hello, Radhika\n",
      "End\n",
      "'say_hello' returned 'Hello, Radhika'\n"
     ]
    },
    {
     "data": {
      "text/plain": [
       "'Hello, Radhika'"
      ]
     },
     "execution_count": 18,
     "metadata": {},
     "output_type": "execute_result"
    }
   ],
   "source": [
    "#Nested Decorators\n",
    "import functools\n",
    "\n",
    "def start_end_decorator(func):\n",
    "\n",
    "    @functools.wraps(func)\n",
    "    def wrapper(*args, **kwargs):\n",
    "        print(\"Start\")\n",
    "        result = func(*args, **kwargs)\n",
    "        print(\"End\")\n",
    "        return result\n",
    "    return wrapper\n",
    "\n",
    "def debug(func):\n",
    "    @functools.wraps(func)\n",
    "    def wrapper(*args, **kwargs):\n",
    "        args_repr = [repr(a) for a in args]\n",
    "        kwargs_repr = [f\"{k}={v!r}\" for k, v in kwargs.items()]\n",
    "        signature = \", \".join(args_repr + kwargs_repr)\n",
    "        print(f\"calling {func.__name__}({signature})\")\n",
    "        result = func(*args, **kwargs)\n",
    "        print(f\"{func.__name__!r} returned {result!r}\")\n",
    "        return result\n",
    "    return wrapper\n",
    "\n",
    "@debug\n",
    "@start_end_decorator\n",
    "def say_hello(name):\n",
    "    greeting = f\"Hello, {name}\" \n",
    "    print(greeting)\n",
    "    return greeting\n",
    "\n",
    "say_hello(\"Radhika\")"
   ]
  },
  {
   "cell_type": "code",
   "execution_count": 19,
   "metadata": {},
   "outputs": [
    {
     "name": "stdout",
     "output_type": "stream",
     "text": [
      "This is executed 1 times.\n",
      "Hello\n",
      "This is executed 2 times.\n",
      "Hello\n"
     ]
    }
   ],
   "source": [
    "#Class Decorators :- Theycan used to maintain a record of the function that how many times it has been executed.\n",
    "class CountCalls:\n",
    "\n",
    "    def __init__(self, func):\n",
    "        self.func = func\n",
    "        self.num_calls = 0\n",
    "\n",
    "    def __call__(self, *args, **kwargs):\n",
    "        self.num_calls+=1\n",
    "        print(f\"This is executed {self.num_calls} times.\")\n",
    "        return self.func(*args, **kwargs)\n",
    "\n",
    "@CountCalls\n",
    "def say_hello():\n",
    "    print(\"Hello\")\n",
    "\n",
    "say_hello()\n",
    "say_hello()\n"
   ]
  },
  {
   "cell_type": "code",
   "execution_count": null,
   "metadata": {},
   "outputs": [],
   "source": []
  }
 ],
 "metadata": {
  "kernelspec": {
   "display_name": "Python 3.10.4 64-bit",
   "language": "python",
   "name": "python3"
  },
  "language_info": {
   "codemirror_mode": {
    "name": "ipython",
    "version": 3
   },
   "file_extension": ".py",
   "mimetype": "text/x-python",
   "name": "python",
   "nbconvert_exporter": "python",
   "pygments_lexer": "ipython3",
   "version": "3.10.4"
  },
  "orig_nbformat": 4,
  "vscode": {
   "interpreter": {
    "hash": "e593ac106456af50ce7af38f9671c411b49d6cd90f9b885e167f0f594e09038c"
   }
  }
 },
 "nbformat": 4,
 "nbformat_minor": 2
}
