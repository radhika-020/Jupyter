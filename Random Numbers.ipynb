{
 "cells": [
  {
   "cell_type": "code",
   "execution_count": 1,
   "metadata": {},
   "outputs": [
    {
     "name": "stdout",
     "output_type": "stream",
     "text": [
      "0.027565243808415518\n"
     ]
    }
   ],
   "source": [
    "import random\n",
    "\n",
    "a = random.random()\n",
    "print(a)"
   ]
  },
  {
   "cell_type": "code",
   "execution_count": 2,
   "metadata": {},
   "outputs": [
    {
     "name": "stdout",
     "output_type": "stream",
     "text": [
      "1.683743880188989\n"
     ]
    }
   ],
   "source": [
    "a = random.uniform(1, 5)\n",
    "print(a)"
   ]
  },
  {
   "cell_type": "code",
   "execution_count": 3,
   "metadata": {},
   "outputs": [
    {
     "ename": "NameError",
     "evalue": "name 'A' is not defined",
     "output_type": "error",
     "traceback": [
      "\u001b[1;31m---------------------------------------------------------------------------\u001b[0m",
      "\u001b[1;31mNameError\u001b[0m                                 Traceback (most recent call last)",
      "\u001b[1;32mf:\\Jupyter\\Random Numbers.ipynb Cell 3\u001b[0m in \u001b[0;36m<cell line: 2>\u001b[1;34m()\u001b[0m\n\u001b[0;32m      <a href='vscode-notebook-cell:/f%3A/Jupyter/Random%20Numbers.ipynb#W2sZmlsZQ%3D%3D?line=0'>1</a>\u001b[0m a \u001b[39m=\u001b[39m random\u001b[39m.\u001b[39mrandint(\u001b[39m1\u001b[39m, \u001b[39m5\u001b[39m)\n\u001b[1;32m----> <a href='vscode-notebook-cell:/f%3A/Jupyter/Random%20Numbers.ipynb#W2sZmlsZQ%3D%3D?line=1'>2</a>\u001b[0m \u001b[39mprint\u001b[39m(A)\n",
      "\u001b[1;31mNameError\u001b[0m: name 'A' is not defined"
     ]
    }
   ],
   "source": [
    "a = random.randint(1, 5)\n",
    "print(A)"
   ]
  },
  {
   "cell_type": "code",
   "execution_count": 4,
   "metadata": {},
   "outputs": [
    {
     "name": "stdout",
     "output_type": "stream",
     "text": [
      "5\n"
     ]
    }
   ],
   "source": [
    "a = random.randint(1, 5)\n",
    "print(a) #In randint, the upper bound is included, i.e., here, 5 will be generated as a random number from the given range."
   ]
  },
  {
   "cell_type": "code",
   "execution_count": 5,
   "metadata": {},
   "outputs": [
    {
     "name": "stdout",
     "output_type": "stream",
     "text": [
      "3\n"
     ]
    }
   ],
   "source": [
    "a = random.randrange(1, 5)\n",
    "print(a) #In randrange, upper bound is not included, i.e., here, 5 will never be generated as a random number from the given range."
   ]
  },
  {
   "cell_type": "code",
   "execution_count": 6,
   "metadata": {},
   "outputs": [
    {
     "name": "stdout",
     "output_type": "stream",
     "text": [
      "1.189663426126371\n"
     ]
    }
   ],
   "source": [
    "import random \n",
    "\n",
    "a = random.normalvariate(0, 1)\n",
    "print(a) #This means that here, 0 is the mu or the mean and 1 is the standard deviation or sigma like in statistics."
   ]
  },
  {
   "cell_type": "code",
   "execution_count": 7,
   "metadata": {},
   "outputs": [
    {
     "name": "stdout",
     "output_type": "stream",
     "text": [
      "['A', 'B', 'C', 'D', 'E', 'F']\n"
     ]
    }
   ],
   "source": [
    "import random\n",
    "\n",
    "myList = list(\"ABCDEF\")\n",
    "print(myList)"
   ]
  },
  {
   "cell_type": "code",
   "execution_count": 8,
   "metadata": {},
   "outputs": [
    {
     "name": "stdout",
     "output_type": "stream",
     "text": [
      "D\n"
     ]
    }
   ],
   "source": [
    "a = random.choice(myList)\n",
    "print(a)"
   ]
  },
  {
   "cell_type": "code",
   "execution_count": 9,
   "metadata": {},
   "outputs": [
    {
     "name": "stdout",
     "output_type": "stream",
     "text": [
      "['A', 'D', 'B']\n"
     ]
    }
   ],
   "source": [
    "a = random.sample(myList, 3)\n",
    "print(a) #This will print unique samples of 3, i.e., it will never pick up a same element twice in a single sample."
   ]
  },
  {
   "cell_type": "code",
   "execution_count": 10,
   "metadata": {},
   "outputs": [
    {
     "name": "stdout",
     "output_type": "stream",
     "text": [
      "['F', 'E', 'A']\n"
     ]
    }
   ],
   "source": [
    "a = random.choices(myList, k=3)\n",
    "print(a) #This is same as random.sample but unlike sample, it can pick same element twice."
   ]
  },
  {
   "cell_type": "code",
   "execution_count": 11,
   "metadata": {},
   "outputs": [
    {
     "name": "stdout",
     "output_type": "stream",
     "text": [
      "['B', 'C', 'D']\n"
     ]
    }
   ],
   "source": [
    "a = random.choices(myList, k=3)\n",
    "print(a)"
   ]
  },
  {
   "cell_type": "code",
   "execution_count": 12,
   "metadata": {},
   "outputs": [
    {
     "name": "stdout",
     "output_type": "stream",
     "text": [
      "['A', 'F', 'C']\n"
     ]
    }
   ],
   "source": [
    "a = random.choices(myList, k=3)\n",
    "print(a)"
   ]
  },
  {
   "cell_type": "code",
   "execution_count": 13,
   "metadata": {},
   "outputs": [
    {
     "name": "stdout",
     "output_type": "stream",
     "text": [
      "['C', 'E', 'D']\n"
     ]
    }
   ],
   "source": [
    "a = random.choices(myList, k=3)\n",
    "print(a)"
   ]
  },
  {
   "cell_type": "code",
   "execution_count": 14,
   "metadata": {},
   "outputs": [
    {
     "name": "stdout",
     "output_type": "stream",
     "text": [
      "['F', 'B', 'C']\n"
     ]
    }
   ],
   "source": [
    "a = random.choices(myList, k=3)\n",
    "print(a)"
   ]
  },
  {
   "cell_type": "code",
   "execution_count": 15,
   "metadata": {},
   "outputs": [
    {
     "name": "stdout",
     "output_type": "stream",
     "text": [
      "['A', 'D', 'C']\n"
     ]
    }
   ],
   "source": [
    "a = random.choices(myList, k=3)\n",
    "print(a)"
   ]
  },
  {
   "cell_type": "code",
   "execution_count": 16,
   "metadata": {},
   "outputs": [
    {
     "name": "stdout",
     "output_type": "stream",
     "text": [
      "['D', 'C', 'A']\n"
     ]
    }
   ],
   "source": [
    "a = random.choices(myList, k=3)\n",
    "print(a)"
   ]
  },
  {
   "cell_type": "code",
   "execution_count": 17,
   "metadata": {},
   "outputs": [
    {
     "name": "stdout",
     "output_type": "stream",
     "text": [
      "['D', 'C', 'F']\n"
     ]
    }
   ],
   "source": [
    "a = random.choices(myList, k=3)\n",
    "print(a)"
   ]
  },
  {
   "cell_type": "code",
   "execution_count": 18,
   "metadata": {},
   "outputs": [
    {
     "name": "stdout",
     "output_type": "stream",
     "text": [
      "['C', 'A', 'D', 'E', 'F', 'B']\n"
     ]
    }
   ],
   "source": [
    "random.shuffle(myList)\n",
    "print(myList)"
   ]
  },
  {
   "cell_type": "code",
   "execution_count": 19,
   "metadata": {},
   "outputs": [
    {
     "name": "stdout",
     "output_type": "stream",
     "text": [
      "0.13436424411240122\n",
      "0\n"
     ]
    }
   ],
   "source": [
    "import random\n",
    "\n",
    "random.seed(1)\n",
    "print(random.random())\n",
    "print(random.randint(0, 1))"
   ]
  },
  {
   "cell_type": "code",
   "execution_count": 20,
   "metadata": {},
   "outputs": [
    {
     "name": "stdout",
     "output_type": "stream",
     "text": [
      "0.13436424411240122\n",
      "0\n"
     ]
    }
   ],
   "source": [
    "random.seed(1)\n",
    "print(random.random())\n",
    "print(random.randint(0, 1)) #We can see that with random.ssed(1), the output is same for both the cells."
   ]
  },
  {
   "cell_type": "code",
   "execution_count": 21,
   "metadata": {},
   "outputs": [
    {
     "name": "stdout",
     "output_type": "stream",
     "text": [
      "4\n"
     ]
    }
   ],
   "source": [
    "#Since, random numbers are reproduceable, they cannot be used for security purposes. Therefore, in place of random, secrets module is used.\n",
    "import secrets\n",
    "\n",
    "a = secrets.randbelow(10) #Upper bound is not included.\n",
    "print(a)\n"
   ]
  },
  {
   "cell_type": "code",
   "execution_count": 22,
   "metadata": {},
   "outputs": [
    {
     "name": "stdout",
     "output_type": "stream",
     "text": [
      "0\n"
     ]
    }
   ],
   "source": [
    "a = secrets.randbits(4) #here, 4 is the bits, therefore, it can provide a random number from the range 0 to 1111(in binary), i.e., 15, in decimal.\n",
    "print(a)"
   ]
  },
  {
   "cell_type": "code",
   "execution_count": 23,
   "metadata": {},
   "outputs": [
    {
     "name": "stdout",
     "output_type": "stream",
     "text": [
      "F\n"
     ]
    }
   ],
   "source": [
    "myList = list(\"ABCDEF\")\n",
    "a = secrets.choice(myList)\n",
    "print(a)"
   ]
  },
  {
   "cell_type": "code",
   "execution_count": 24,
   "metadata": {},
   "outputs": [],
   "source": [
    "import numpy as np"
   ]
  },
  {
   "cell_type": "code",
   "execution_count": 25,
   "metadata": {},
   "outputs": [
    {
     "name": "stdout",
     "output_type": "stream",
     "text": [
      "[0.32633792 0.42272091 0.58641835]\n"
     ]
    }
   ],
   "source": [
    "import numpy as np\n",
    "\n",
    "#This module is used for arrays.\n",
    "a = np.random.rand(3)\n",
    "print(a) #This will print a 1D array with 3 elements."
   ]
  },
  {
   "cell_type": "code",
   "execution_count": 26,
   "metadata": {},
   "outputs": [
    {
     "name": "stdout",
     "output_type": "stream",
     "text": [
      "[[0.92535311 0.43378735 0.58623872]\n",
      " [0.02859702 0.06767788 0.23074789]\n",
      " [0.24578355 0.44432655 0.33533456]]\n"
     ]
    }
   ],
   "source": [
    "a = np.random.rand(3, 3)\n",
    "print(a)"
   ]
  },
  {
   "cell_type": "code",
   "execution_count": 27,
   "metadata": {},
   "outputs": [
    {
     "name": "stderr",
     "output_type": "stream",
     "text": [
      "<>:1: SyntaxWarning: 'int' object is not callable; perhaps you missed a comma?\n",
      "<>:1: SyntaxWarning: 'int' object is not callable; perhaps you missed a comma?\n",
      "C:\\Users\\PC\\AppData\\Local\\Temp\\ipykernel_7188\\2229538012.py:1: SyntaxWarning: 'int' object is not callable; perhaps you missed a comma?\n",
      "  a = np.random.randint(1, 10(3, 3))\n",
      "C:\\Users\\PC\\AppData\\Local\\Temp\\ipykernel_7188\\2229538012.py:1: SyntaxWarning: 'int' object is not callable; perhaps you missed a comma?\n",
      "  a = np.random.randint(1, 10(3, 3))\n",
      "C:\\Users\\PC\\AppData\\Local\\Temp\\ipykernel_7188\\2229538012.py:1: SyntaxWarning: 'int' object is not callable; perhaps you missed a comma?\n",
      "  a = np.random.randint(1, 10(3, 3))\n",
      "C:\\Users\\PC\\AppData\\Local\\Temp\\ipykernel_7188\\2229538012.py:1: SyntaxWarning: 'int' object is not callable; perhaps you missed a comma?\n",
      "  a = np.random.randint(1, 10(3, 3))\n"
     ]
    },
    {
     "ename": "TypeError",
     "evalue": "'int' object is not callable",
     "output_type": "error",
     "traceback": [
      "\u001b[1;31m---------------------------------------------------------------------------\u001b[0m",
      "\u001b[1;31mTypeError\u001b[0m                                 Traceback (most recent call last)",
      "\u001b[1;32mf:\\Jupyter\\Random Numbers.ipynb Cell 27\u001b[0m in \u001b[0;36m<cell line: 1>\u001b[1;34m()\u001b[0m\n\u001b[1;32m----> <a href='vscode-notebook-cell:/f%3A/Jupyter/Random%20Numbers.ipynb#X35sZmlsZQ%3D%3D?line=0'>1</a>\u001b[0m a \u001b[39m=\u001b[39m np\u001b[39m.\u001b[39mrandom\u001b[39m.\u001b[39mrandint(\u001b[39m1\u001b[39m, \u001b[39m10\u001b[39;49m(\u001b[39m3\u001b[39;49m, \u001b[39m3\u001b[39;49m))\n\u001b[0;32m      <a href='vscode-notebook-cell:/f%3A/Jupyter/Random%20Numbers.ipynb#X35sZmlsZQ%3D%3D?line=1'>2</a>\u001b[0m \u001b[39mprint\u001b[39m(a)\n",
      "\u001b[1;31mTypeError\u001b[0m: 'int' object is not callable"
     ]
    }
   ],
   "source": [
    "a = np.random.randint(1, 10(3, 3))\n",
    "print(a)"
   ]
  },
  {
   "cell_type": "code",
   "execution_count": 28,
   "metadata": {},
   "outputs": [
    {
     "name": "stdout",
     "output_type": "stream",
     "text": [
      "[[2 8 4]\n",
      " [5 5 8]\n",
      " [7 7 8]]\n"
     ]
    }
   ],
   "source": [
    "a = np.random.randint(1, 10,(3, 3))\n",
    "print(a)"
   ]
  },
  {
   "cell_type": "code",
   "execution_count": 29,
   "metadata": {},
   "outputs": [
    {
     "name": "stdout",
     "output_type": "stream",
     "text": [
      "[1 8 4]\n"
     ]
    }
   ],
   "source": [
    "a = np.random.randint(1, 10, 3)\n",
    "print(a)"
   ]
  },
  {
   "cell_type": "code",
   "execution_count": 30,
   "metadata": {},
   "outputs": [
    {
     "name": "stdout",
     "output_type": "stream",
     "text": [
      "[[1, 2, 3], [4, 5, 6], [7, 8, 9]]\n",
      "[[4, 5, 6], [1, 2, 3], [7, 8, 9]]\n"
     ]
    }
   ],
   "source": [
    "arr = [[1, 2, 3], [4, 5, 6], [7, 8, 9]]\n",
    "print(arr)\n",
    "np.random.shuffle(arr)\n",
    "print(arr)"
   ]
  },
  {
   "cell_type": "code",
   "execution_count": 31,
   "metadata": {},
   "outputs": [
    {
     "name": "stdout",
     "output_type": "stream",
     "text": [
      "0.417022004702574\n",
      "0.417022004702574\n"
     ]
    }
   ],
   "source": [
    "np.random.seed(1)\n",
    "print(np.random.rand())\n",
    "np.random.seed(1)\n",
    "print(np.random.rand())"
   ]
  },
  {
   "cell_type": "code",
   "execution_count": 32,
   "metadata": {},
   "outputs": [
    {
     "name": "stdout",
     "output_type": "stream",
     "text": [
      "[[4.17022005e-01 7.20324493e-01]\n",
      " [1.14374817e-04 3.02332573e-01]]\n",
      "[[4.17022005e-01 7.20324493e-01]\n",
      " [1.14374817e-04 3.02332573e-01]]\n"
     ]
    }
   ],
   "source": [
    "np.random.seed(1)\n",
    "print(np.random.rand(2, 2))\n",
    "np.random.seed(1)\n",
    "print(np.random.rand(2, 2))"
   ]
  },
  {
   "cell_type": "code",
   "execution_count": null,
   "metadata": {},
   "outputs": [],
   "source": []
  }
 ],
 "metadata": {
  "kernelspec": {
   "display_name": "Python 3.10.4 64-bit",
   "language": "python",
   "name": "python3"
  },
  "language_info": {
   "codemirror_mode": {
    "name": "ipython",
    "version": 3
   },
   "file_extension": ".py",
   "mimetype": "text/x-python",
   "name": "python",
   "nbconvert_exporter": "python",
   "pygments_lexer": "ipython3",
   "version": "3.10.4"
  },
  "orig_nbformat": 4,
  "vscode": {
   "interpreter": {
    "hash": "e593ac106456af50ce7af38f9671c411b49d6cd90f9b885e167f0f594e09038c"
   }
  }
 },
 "nbformat": 4,
 "nbformat_minor": 2
}
