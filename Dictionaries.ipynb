{
 "cells": [
  {
   "cell_type": "code",
   "execution_count": 1,
   "metadata": {},
   "outputs": [
    {
     "name": "stdout",
     "output_type": "stream",
     "text": [
      "{'name': 'Radhika', 'age': 21, 'city': 'Prayagraj'}\n"
     ]
    }
   ],
   "source": [
    "myDict = {\"name\": \"Radhika\", \"age\": 21, \"city\": \"Prayagraj\"}\n",
    "print(myDict)"
   ]
  },
  {
   "cell_type": "code",
   "execution_count": 2,
   "metadata": {},
   "outputs": [
    {
     "name": "stdout",
     "output_type": "stream",
     "text": [
      "{'name': 'Radhika', 'age': 21, 'city': 'Prayagraj'}\n"
     ]
    }
   ],
   "source": [
    "myDict = dict(name=\"Radhika\", age=21, city=\"Prayagraj\")\n",
    "print(myDict)"
   ]
  },
  {
   "cell_type": "code",
   "execution_count": 3,
   "metadata": {},
   "outputs": [
    {
     "ename": "KeyError",
     "evalue": "0",
     "output_type": "error",
     "traceback": [
      "\u001b[1;31m---------------------------------------------------------------------------\u001b[0m",
      "\u001b[1;31mKeyError\u001b[0m                                  Traceback (most recent call last)",
      "\u001b[1;32mf:\\Jupyter\\Dictionaries.ipynb Cell 3\u001b[0m in \u001b[0;36m<cell line: 1>\u001b[1;34m()\u001b[0m\n\u001b[1;32m----> <a href='vscode-notebook-cell:/f%3A/Jupyter/Dictionaries.ipynb#W2sZmlsZQ%3D%3D?line=0'>1</a>\u001b[0m value \u001b[39m=\u001b[39m myDict[\u001b[39m0\u001b[39;49m]\n\u001b[0;32m      <a href='vscode-notebook-cell:/f%3A/Jupyter/Dictionaries.ipynb#W2sZmlsZQ%3D%3D?line=1'>2</a>\u001b[0m \u001b[39mprint\u001b[39m(value)\n",
      "\u001b[1;31mKeyError\u001b[0m: 0"
     ]
    }
   ],
   "source": [
    "value = myDict[0]\n",
    "print(value)\n"
   ]
  },
  {
   "cell_type": "code",
   "execution_count": 4,
   "metadata": {},
   "outputs": [
    {
     "name": "stdout",
     "output_type": "stream",
     "text": [
      "Radhika\n"
     ]
    }
   ],
   "source": [
    "value = myDict[\"name\"]\n",
    "print(value)"
   ]
  },
  {
   "cell_type": "code",
   "execution_count": 5,
   "metadata": {},
   "outputs": [
    {
     "ename": "KeyError",
     "evalue": "'lastname'",
     "output_type": "error",
     "traceback": [
      "\u001b[1;31m---------------------------------------------------------------------------\u001b[0m",
      "\u001b[1;31mKeyError\u001b[0m                                  Traceback (most recent call last)",
      "\u001b[1;32mf:\\Jupyter\\Dictionaries.ipynb Cell 5\u001b[0m in \u001b[0;36m<cell line: 1>\u001b[1;34m()\u001b[0m\n\u001b[1;32m----> <a href='vscode-notebook-cell:/f%3A/Jupyter/Dictionaries.ipynb#W4sZmlsZQ%3D%3D?line=0'>1</a>\u001b[0m value \u001b[39m=\u001b[39m myDict[\u001b[39m\"\u001b[39;49m\u001b[39mlastname\u001b[39;49m\u001b[39m\"\u001b[39;49m]\n\u001b[0;32m      <a href='vscode-notebook-cell:/f%3A/Jupyter/Dictionaries.ipynb#W4sZmlsZQ%3D%3D?line=1'>2</a>\u001b[0m \u001b[39mprint\u001b[39m(value)\n",
      "\u001b[1;31mKeyError\u001b[0m: 'lastname'"
     ]
    }
   ],
   "source": [
    "value = myDict[\"lastname\"]\n",
    "print(value)"
   ]
  },
  {
   "cell_type": "code",
   "execution_count": 6,
   "metadata": {},
   "outputs": [
    {
     "name": "stdout",
     "output_type": "stream",
     "text": [
      "{'name': 'Radhika', 'age': 21, 'city': 'Prayagraj', 'email': 'aradhika880@gmail.com'}\n"
     ]
    }
   ],
   "source": [
    "myDict[\"email\"] = \"aradhika880@gmail.com\"\n",
    "print(myDict)"
   ]
  },
  {
   "cell_type": "code",
   "execution_count": 7,
   "metadata": {},
   "outputs": [
    {
     "name": "stdout",
     "output_type": "stream",
     "text": [
      "{'name': 'Radhika', 'age': 21, 'city': 'Prayagraj', 'email': 'aranjana880@gmail.com'}\n"
     ]
    }
   ],
   "source": [
    "myDict[\"email\"] = \"aranjana880@gmail.com\"\n",
    "print(myDict)"
   ]
  },
  {
   "cell_type": "code",
   "execution_count": 8,
   "metadata": {},
   "outputs": [
    {
     "name": "stdout",
     "output_type": "stream",
     "text": [
      "{'name': 'Radhika', 'age': 21, 'city': 'Prayagraj', 'email': 'aradhika880@gmail.com'}\n"
     ]
    }
   ],
   "source": [
    "myDict[\"email\"] = \"aradhika880@gmail.com\"\n",
    "print(myDict)"
   ]
  },
  {
   "cell_type": "code",
   "execution_count": 9,
   "metadata": {},
   "outputs": [
    {
     "ename": "SyntaxError",
     "evalue": "cannot delete function call (523521875.py, line 1)",
     "output_type": "error",
     "traceback": [
      "\u001b[1;36m  Input \u001b[1;32mIn [9]\u001b[1;36m\u001b[0m\n\u001b[1;33m    del myDict(\"name\")\u001b[0m\n\u001b[1;37m        ^\u001b[0m\n\u001b[1;31mSyntaxError\u001b[0m\u001b[1;31m:\u001b[0m cannot delete function call\n"
     ]
    }
   ],
   "source": [
    "del myDict(\"name\")\n",
    "print(myDict)"
   ]
  },
  {
   "cell_type": "code",
   "execution_count": 10,
   "metadata": {},
   "outputs": [
    {
     "name": "stdout",
     "output_type": "stream",
     "text": [
      "{'age': 21, 'city': 'Prayagraj', 'email': 'aradhika880@gmail.com'}\n"
     ]
    }
   ],
   "source": [
    "del myDict[\"name\"]\n",
    "print(myDict)"
   ]
  },
  {
   "cell_type": "code",
   "execution_count": 11,
   "metadata": {},
   "outputs": [
    {
     "name": "stdout",
     "output_type": "stream",
     "text": [
      "{'city': 'Prayagraj', 'email': 'aradhika880@gmail.com'}\n"
     ]
    }
   ],
   "source": [
    "myDict.pop(\"age\")\n",
    "print(myDict)"
   ]
  },
  {
   "cell_type": "code",
   "execution_count": 12,
   "metadata": {},
   "outputs": [
    {
     "ename": "TypeError",
     "evalue": "pop expected at least 1 argument, got 0",
     "output_type": "error",
     "traceback": [
      "\u001b[1;31m---------------------------------------------------------------------------\u001b[0m",
      "\u001b[1;31mTypeError\u001b[0m                                 Traceback (most recent call last)",
      "\u001b[1;32mf:\\Jupyter\\Dictionaries.ipynb Cell 12\u001b[0m in \u001b[0;36m<cell line: 1>\u001b[1;34m()\u001b[0m\n\u001b[1;32m----> <a href='vscode-notebook-cell:/f%3A/Jupyter/Dictionaries.ipynb#X14sZmlsZQ%3D%3D?line=0'>1</a>\u001b[0m myDict\u001b[39m.\u001b[39;49mpop()\n\u001b[0;32m      <a href='vscode-notebook-cell:/f%3A/Jupyter/Dictionaries.ipynb#X14sZmlsZQ%3D%3D?line=1'>2</a>\u001b[0m \u001b[39mprint\u001b[39m(myDict)\n",
      "\u001b[1;31mTypeError\u001b[0m: pop expected at least 1 argument, got 0"
     ]
    }
   ],
   "source": [
    "myDict.pop()\n",
    "print(myDict)"
   ]
  },
  {
   "cell_type": "code",
   "execution_count": 13,
   "metadata": {},
   "outputs": [
    {
     "name": "stdout",
     "output_type": "stream",
     "text": [
      "{'city': 'Prayagraj'}\n"
     ]
    }
   ],
   "source": [
    "myDict.popitem()\n",
    "print(myDict)"
   ]
  },
  {
   "cell_type": "code",
   "execution_count": 14,
   "metadata": {},
   "outputs": [
    {
     "name": "stdout",
     "output_type": "stream",
     "text": [
      "{'name': 'Radhika', 'age': 21, 'city': 'Prayagraj'}\n"
     ]
    }
   ],
   "source": [
    "myDict = {\"name\": \"Radhika\", \"age\": 21, \"city\": \"Prayagraj\"}\n",
    "print(myDict)"
   ]
  },
  {
   "cell_type": "code",
   "execution_count": 15,
   "metadata": {},
   "outputs": [
    {
     "name": "stdout",
     "output_type": "stream",
     "text": [
      "Radhika\n"
     ]
    }
   ],
   "source": [
    "myDict = {\"name\": \"Radhika\", \"age\": 21, \"city\": \"Prayagraj\"}\n",
    "if \"name\" in myDict:\n",
    "    print(myDict[\"name\"])"
   ]
  },
  {
   "cell_type": "code",
   "execution_count": 16,
   "metadata": {},
   "outputs": [
    {
     "name": "stdout",
     "output_type": "stream",
     "text": [
      "Not found!\n"
     ]
    }
   ],
   "source": [
    "myDict = {\"name\": \"Radhika\", \"age\": 21, \"city\": \"Prayagraj\"}\n",
    "if \"Name\" in myDict:\n",
    "    print(myDict[\"name\"])\n",
    "else:\n",
    "    print(\"Not found!\")"
   ]
  },
  {
   "cell_type": "code",
   "execution_count": 17,
   "metadata": {},
   "outputs": [
    {
     "name": "stdout",
     "output_type": "stream",
     "text": [
      "Radhika\n"
     ]
    }
   ],
   "source": [
    "myDict = {\"name\": \"Radhika\", \"age\": 21, \"city\": \"Prayagraj\"}\n",
    "try:\n",
    "    print(myDict[\"name\"])\n",
    "except:\n",
    "    print(\"Error.\")"
   ]
  },
  {
   "cell_type": "code",
   "execution_count": 18,
   "metadata": {},
   "outputs": [
    {
     "name": "stdout",
     "output_type": "stream",
     "text": [
      "Error.\n"
     ]
    }
   ],
   "source": [
    "try:\n",
    "    print(myDict[\"Name\"])\n",
    "except:\n",
    "    print(\"Error.\")"
   ]
  },
  {
   "cell_type": "code",
   "execution_count": 19,
   "metadata": {},
   "outputs": [
    {
     "name": "stdout",
     "output_type": "stream",
     "text": [
      "name\n",
      "age\n",
      "city\n"
     ]
    }
   ],
   "source": [
    "for key in myDict:\n",
    "    print(key)"
   ]
  },
  {
   "cell_type": "code",
   "execution_count": 20,
   "metadata": {},
   "outputs": [
    {
     "ename": "TypeError",
     "evalue": "'builtin_function_or_method' object is not iterable",
     "output_type": "error",
     "traceback": [
      "\u001b[1;31m---------------------------------------------------------------------------\u001b[0m",
      "\u001b[1;31mTypeError\u001b[0m                                 Traceback (most recent call last)",
      "\u001b[1;32mf:\\Jupyter\\Dictionaries.ipynb Cell 20\u001b[0m in \u001b[0;36m<cell line: 1>\u001b[1;34m()\u001b[0m\n\u001b[1;32m----> <a href='vscode-notebook-cell:/f%3A/Jupyter/Dictionaries.ipynb#X25sZmlsZQ%3D%3D?line=0'>1</a>\u001b[0m \u001b[39mfor\u001b[39;00m key \u001b[39min\u001b[39;00m myDict\u001b[39m.\u001b[39mkeys:\n\u001b[0;32m      <a href='vscode-notebook-cell:/f%3A/Jupyter/Dictionaries.ipynb#X25sZmlsZQ%3D%3D?line=1'>2</a>\u001b[0m     \u001b[39mprint\u001b[39m(key)\n",
      "\u001b[1;31mTypeError\u001b[0m: 'builtin_function_or_method' object is not iterable"
     ]
    }
   ],
   "source": [
    "for key in myDict.keys:\n",
    "    print(key)"
   ]
  },
  {
   "cell_type": "code",
   "execution_count": 21,
   "metadata": {},
   "outputs": [
    {
     "name": "stdout",
     "output_type": "stream",
     "text": [
      "name\n",
      "age\n",
      "city\n"
     ]
    }
   ],
   "source": [
    "for key in myDict.keys():\n",
    "    print(key)"
   ]
  },
  {
   "cell_type": "code",
   "execution_count": 22,
   "metadata": {},
   "outputs": [
    {
     "name": "stdout",
     "output_type": "stream",
     "text": [
      "Radhika\n",
      "21\n",
      "Prayagraj\n"
     ]
    }
   ],
   "source": [
    "for values in myDict.values():\n",
    "    print(values)"
   ]
  },
  {
   "cell_type": "code",
   "execution_count": 23,
   "metadata": {},
   "outputs": [
    {
     "name": "stdout",
     "output_type": "stream",
     "text": [
      "name Radhika\n",
      "age 21\n",
      "city Prayagraj\n"
     ]
    }
   ],
   "source": [
    "for key, value in myDict.items():\n",
    "    print(key, value)"
   ]
  },
  {
   "cell_type": "code",
   "execution_count": 24,
   "metadata": {},
   "outputs": [
    {
     "name": "stdout",
     "output_type": "stream",
     "text": [
      "{'name': 'Radhika', 'age': 21, 'city': 'Prayagraj', 'email': 'aradhika880@gmail.com'}\n",
      "{'name': 'Radhika', 'age': 21, 'city': 'Prayagraj', 'email': 'aradhika880@gmail.com'}\n"
     ]
    }
   ],
   "source": [
    "myDictCopy = myDict\n",
    "myDictCopy[\"email\"] = \"aradhika880@gmail.com\"\n",
    "print(myDictCopy)\n",
    "print(myDict)"
   ]
  },
  {
   "cell_type": "code",
   "execution_count": 25,
   "metadata": {},
   "outputs": [
    {
     "name": "stdout",
     "output_type": "stream",
     "text": [
      "{'name': 'Radhika', 'age': 21, 'city': 'Prayagraj', 'email': 'aradhika880@gmail.com'}\n",
      "{'name': 'Radhika', 'age': 21, 'city': 'Prayagraj', 'email': 'aradhika880@gmail.com'}\n"
     ]
    }
   ],
   "source": [
    "myDictCopy = myDict.copy()\n",
    "myDictCopy[\"email\"] = \"aradhika880@gmail.com\"\n",
    "print(myDictCopy)\n",
    "print(myDict)"
   ]
  },
  {
   "cell_type": "code",
   "execution_count": 26,
   "metadata": {},
   "outputs": [
    {
     "name": "stdout",
     "output_type": "stream",
     "text": [
      "{'name': 'Radhika', 'age': 21, 'city': 'Prayagraj', 'email': 'aradhika880@gmail.com'}\n",
      "{'name': 'Radhika', 'age': 21, 'city': 'Prayagraj'}\n"
     ]
    }
   ],
   "source": [
    "myDict = {\"name\": \"Radhika\", \"age\": 21, \"city\": \"Prayagraj\"}\n",
    "myDictCopy1 = myDict.copy()\n",
    "myDictCopy1[\"email\"] = \"aradhika880@gmail.com\"\n",
    "print(myDictCopy1)\n",
    "print(myDict)"
   ]
  },
  {
   "cell_type": "code",
   "execution_count": 27,
   "metadata": {},
   "outputs": [
    {
     "name": "stdout",
     "output_type": "stream",
     "text": [
      "{'name': 'Radhika', 'age': 21, 'city': 'Prayagraj', 'email': 'aradhika880@gmail.com'}\n",
      "{'name': 'Radhika', 'age': 21, 'city': 'Prayagraj'}\n"
     ]
    }
   ],
   "source": [
    "myDictCopy1 = dict(myDict)\n",
    "myDictCopy1[\"email\"] = \"aradhika880@gmail.com\"\n",
    "print(myDictCopy1)\n",
    "print(myDict)"
   ]
  },
  {
   "cell_type": "code",
   "execution_count": 28,
   "metadata": {},
   "outputs": [
    {
     "name": "stdout",
     "output_type": "stream",
     "text": [
      "{'name': 'Ranjana, Anjani', 'email': 'aradhika880@gmail.com'}\n",
      "{'name': 'Ranjana, Anjani', 'age': 21, 'city': 'Prayagraj', 'email': 'aradhika880@gmail.com'}\n"
     ]
    }
   ],
   "source": [
    "myDict = {\"name\":\"Radhika\", \"age\" : 21, \"city\":\"Prayagraj\"}\n",
    "myDict1 = dict(name=\"Ranjana, Anjani\", email=\"aradhika880@gmail.com\")\n",
    "myDict.update(myDict1)\n",
    "print(myDict1)\n",
    "print(myDict)"
   ]
  },
  {
   "cell_type": "code",
   "execution_count": 29,
   "metadata": {},
   "outputs": [
    {
     "name": "stdout",
     "output_type": "stream",
     "text": [
      "{3: 9, 6: 36, 9: 81}\n"
     ]
    }
   ],
   "source": [
    "myDict={3:9, 6:36, 9:81}\n",
    "print(myDict)"
   ]
  },
  {
   "cell_type": "code",
   "execution_count": 30,
   "metadata": {},
   "outputs": [
    {
     "name": "stdout",
     "output_type": "stream",
     "text": [
      "{(8, 7): 15}\n"
     ]
    }
   ],
   "source": [
    "myTuple = (8, 7)\n",
    "myDict = {myTuple : 15}\n",
    "print(myDict)"
   ]
  },
  {
   "cell_type": "code",
   "execution_count": 31,
   "metadata": {},
   "outputs": [
    {
     "name": "stdout",
     "output_type": "stream",
     "text": [
      "{(8, 7): 15}\n"
     ]
    }
   ],
   "source": [
    "myTuple = 8, 7\n",
    "myDict = {myTuple : 15}\n",
    "print(myDict)"
   ]
  },
  {
   "cell_type": "code",
   "execution_count": 32,
   "metadata": {},
   "outputs": [
    {
     "ename": "TypeError",
     "evalue": "unhashable type: 'list'",
     "output_type": "error",
     "traceback": [
      "\u001b[1;31m---------------------------------------------------------------------------\u001b[0m",
      "\u001b[1;31mTypeError\u001b[0m                                 Traceback (most recent call last)",
      "\u001b[1;32mf:\\Jupyter\\Dictionaries.ipynb Cell 32\u001b[0m in \u001b[0;36m<cell line: 2>\u001b[1;34m()\u001b[0m\n\u001b[0;32m      <a href='vscode-notebook-cell:/f%3A/Jupyter/Dictionaries.ipynb#X43sZmlsZQ%3D%3D?line=0'>1</a>\u001b[0m myList \u001b[39m=\u001b[39m [\u001b[39m8\u001b[39m, \u001b[39m7\u001b[39m]\n\u001b[1;32m----> <a href='vscode-notebook-cell:/f%3A/Jupyter/Dictionaries.ipynb#X43sZmlsZQ%3D%3D?line=1'>2</a>\u001b[0m myDict \u001b[39m=\u001b[39m {myList : \u001b[39m15\u001b[39m}\n\u001b[0;32m      <a href='vscode-notebook-cell:/f%3A/Jupyter/Dictionaries.ipynb#X43sZmlsZQ%3D%3D?line=2'>3</a>\u001b[0m \u001b[39mprint\u001b[39m(myDict)\n",
      "\u001b[1;31mTypeError\u001b[0m: unhashable type: 'list'"
     ]
    }
   ],
   "source": [
    "myList = [8, 7]\n",
    "myDict = {myList : 15}\n",
    "print(myDict)"
   ]
  },
  {
   "cell_type": "code",
   "execution_count": null,
   "metadata": {},
   "outputs": [],
   "source": []
  }
 ],
 "metadata": {
  "kernelspec": {
   "display_name": "Python 3.10.4 64-bit",
   "language": "python",
   "name": "python3"
  },
  "language_info": {
   "codemirror_mode": {
    "name": "ipython",
    "version": 3
   },
   "file_extension": ".py",
   "mimetype": "text/x-python",
   "name": "python",
   "nbconvert_exporter": "python",
   "pygments_lexer": "ipython3",
   "version": "3.10.4"
  },
  "orig_nbformat": 4,
  "vscode": {
   "interpreter": {
    "hash": "e593ac106456af50ce7af38f9671c411b49d6cd90f9b885e167f0f594e09038c"
   }
  }
 },
 "nbformat": 4,
 "nbformat_minor": 2
}
